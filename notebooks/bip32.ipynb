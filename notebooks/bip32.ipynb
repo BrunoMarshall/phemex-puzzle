{
 "cells": [
  {
   "cell_type": "code",
   "execution_count": 1,
   "metadata": {},
   "outputs": [],
   "source": [
    "# create_btc_wallet.py\n",
    "\n",
    "from pywallet.utils.bip32 import Wallet\n"
   ]
  },
  {
   "cell_type": "code",
   "execution_count": 2,
   "metadata": {},
   "outputs": [],
   "source": [
    "# wallet = Wallet.from_master_secret(bytes.fromhex('deadbeef'), network=\"bitcoin\")\n",
    "# wallet.get_child_for_path('m/0/1').to_address()"
   ]
  },
  {
   "cell_type": "code",
   "execution_count": 3,
   "metadata": {},
   "outputs": [],
   "source": [
    "def get_derivations(k=0):\n",
    "    k = str(k)\n",
    "    return [\"/\".join(strs) for strs in [\n",
    "        # simple\n",
    "        [\"m\", \"0\"],\n",
    "        [\"m\", \"1\"],\n",
    "        [\"m\", k],\n",
    "        [\"m\", \"0\", k],\n",
    "        # bitcoin core\n",
    "        [\"m/0'/0'/0\"],\n",
    "        [\"m/0'/0'/21\"],\n",
    "        [\"m/0'/0'/{}\".format(k)],\n",
    "        # blockchain.info\n",
    "        [\"m\", \"44'\", \"0'\", \"0'\", \"0\"],\n",
    "        [\"m\", \"44'\", \"0'\", \"0'\", \"21\"],\n",
    "        [\"m\", \"44'\", \"0'\", \"0'\", k],\n",
    "        [\"m\", \"44'\", \"21'\", \"0'\", \"0\"],\n",
    "        [\"m\", \"44'\", \"21'\", \"0'\", k],\n",
    "        # multibit\n",
    "        [\"m\", \"0'\", \"0\", \"0\"],\n",
    "        [\"m\", \"0'\", \"0\", \"21\"],\n",
    "        [\"m\", \"0'\", \"0\", k],\n",
    "        [\"m\", \"0'\", k, \"0\"],\n",
    "        [\"m\", \"{}'\".format(k), \"0\", \"0\"],\n",
    "        [\"m\", \"21'\", \"0\", \"0\"],\n",
    "        [\"m\", \"21'\", \"0\", k],\n",
    "        # ledger\n",
    "        [\"m\", \"44'\", \"0'\", \"0'\", \"0\"],\n",
    "        [\"m\", \"44'\", \"0'\", \"0'\", \"21\"],\n",
    "        [\"m\", \"44'\", \"0'\", \"0'\", k],\n",
    "        [\"m\", \"44'\", \"{}'\".format(k), \"0'\", \"0\"],\n",
    "        [\"m\", \"44'\", \"{}'\".format(k), \"0'\", \"21\"],\n",
    "        [\"m\", \"44'\", \"21'\", \"0'\", \"0\"],\n",
    "        [\"m\", \"44'\", \"21'\", \"0'\", k],\n",
    "        # bip44\n",
    "        [\"m\", \"44'\", \"0'\", \"0'\", \"0\", \"0\"],\n",
    "        [\"m\", \"44'\", \"0'\", \"0'\", \"0\", \"21\"],\n",
    "        [\"m\", \"44'\", \"0'\", \"0'\", \"0\", k],\n",
    "        [\"m\", \"44'\", \"0'\", \"21'\", \"0\", k],\n",
    "        [\"m\", \"44'\", \"0'\", \"{}'\".format(k), \"0\", \"0\"],\n",
    "        [\"m\", \"44'\", \"0'\", \"{}'\".format(k), \"0\", \"21\"]\n",
    "    ]]"
   ]
  },
  {
   "cell_type": "code",
   "execution_count": 4,
   "metadata": {},
   "outputs": [
    {
     "data": {
      "text/plain": [
       "['m/0',\n",
       " 'm/1',\n",
       " 'm/22',\n",
       " 'm/0/22',\n",
       " \"m/0'/0'/0\",\n",
       " \"m/0'/0'/21\",\n",
       " \"m/0'/0'/22\",\n",
       " \"m/44'/0'/0'/0\",\n",
       " \"m/44'/0'/0'/21\",\n",
       " \"m/44'/0'/0'/22\",\n",
       " \"m/44'/21'/0'/0\",\n",
       " \"m/44'/21'/0'/22\",\n",
       " \"m/0'/0/0\",\n",
       " \"m/0'/0/21\",\n",
       " \"m/0'/0/22\",\n",
       " \"m/0'/22/0\",\n",
       " \"m/22'/0/0\",\n",
       " \"m/21'/0/0\",\n",
       " \"m/21'/0/22\",\n",
       " \"m/44'/0'/0'/0\",\n",
       " \"m/44'/0'/0'/21\",\n",
       " \"m/44'/0'/0'/22\",\n",
       " \"m/44'/22'/0'/0\",\n",
       " \"m/44'/22'/0'/21\",\n",
       " \"m/44'/21'/0'/0\",\n",
       " \"m/44'/21'/0'/22\",\n",
       " \"m/44'/0'/0'/0/0\",\n",
       " \"m/44'/0'/0'/0/21\",\n",
       " \"m/44'/0'/0'/0/22\",\n",
       " \"m/44'/0'/21'/0/22\",\n",
       " \"m/44'/0'/22'/0/0\",\n",
       " \"m/44'/0'/22'/0/21\"]"
      ]
     },
     "execution_count": 4,
     "metadata": {},
     "output_type": "execute_result"
    }
   ],
   "source": [
    "get_derivations(22)"
   ]
  },
  {
   "cell_type": "code",
   "execution_count": 8,
   "metadata": {},
   "outputs": [],
   "source": [
    "def get_bip32_privkeys_from_hex(h, k=0):\n",
    "    paths = get_derivations(k)\n",
    "    wallet = Wallet.from_master_secret(bytes.fromhex(h), network=\"bitcoin\")\n",
    "    privkeys = []\n",
    "    for path in paths:\n",
    "        try:\n",
    "            privkey_hex = wallet.get_child_for_path(path).get_private_key_hex().decode()\n",
    "            privkeys.append(privkey_hex)\n",
    "        except:\n",
    "            pass\n",
    "    return privkeys"
   ]
  },
  {
   "cell_type": "code",
   "execution_count": 9,
   "metadata": {},
   "outputs": [
    {
     "data": {
      "text/plain": [
       "['d35dd301866b9564b5c02d3dbcadc72e296d7093dad16ce77081f574f7cbae4b',\n",
       " 'd717d760526a106d40d5c63f09d12da6e9a00b7e1d9da16d2db717324a9bc093',\n",
       " 'd35dd301866b9564b5c02d3dbcadc72e296d7093dad16ce77081f574f7cbae4b',\n",
       " 'ef23ed9c8bd360e329744e5aa1fa8cf66f5ffbe78b5fd1263959e3901386be22',\n",
       " '677c1c85d5643a1ca81f4d2c05ca19d0136419aa3738507d29575b46721d4ef6',\n",
       " 'e84f37833da937555274c1810de373a82a6d7f5e84f85115815535fce48e1d21',\n",
       " '677c1c85d5643a1ca81f4d2c05ca19d0136419aa3738507d29575b46721d4ef6',\n",
       " '63a7231d98c14157cdb1b211ec6036df1850a0e5bf96c9329820148269b1ab3d',\n",
       " 'aa7bb6bf6dabe585b201ab32de7109c7986c8deaf11a088668655ca69d7f2b8c',\n",
       " '63a7231d98c14157cdb1b211ec6036df1850a0e5bf96c9329820148269b1ab3d',\n",
       " 'eab844044a6100a95e81aa399475db0a342cf59a72081e6dba1e804c4793a4d8',\n",
       " 'eab844044a6100a95e81aa399475db0a342cf59a72081e6dba1e804c4793a4d8',\n",
       " '7c54cf1f3efd8632b554ad0d8d721426acfbdd18d2a59650193fd3c3c753201a',\n",
       " 'feedeeed8767e3fe1be496ebe67e2d7e10729bac42794a99dce1e0b011a221d0',\n",
       " '7c54cf1f3efd8632b554ad0d8d721426acfbdd18d2a59650193fd3c3c753201a',\n",
       " '7c54cf1f3efd8632b554ad0d8d721426acfbdd18d2a59650193fd3c3c753201a',\n",
       " '7c54cf1f3efd8632b554ad0d8d721426acfbdd18d2a59650193fd3c3c753201a',\n",
       " 'a59cf313752b8d12ec7a3122b9fc004034f730d9964d5b201703d63076c90d1f',\n",
       " 'a59cf313752b8d12ec7a3122b9fc004034f730d9964d5b201703d63076c90d1f',\n",
       " '63a7231d98c14157cdb1b211ec6036df1850a0e5bf96c9329820148269b1ab3d',\n",
       " 'aa7bb6bf6dabe585b201ab32de7109c7986c8deaf11a088668655ca69d7f2b8c',\n",
       " '63a7231d98c14157cdb1b211ec6036df1850a0e5bf96c9329820148269b1ab3d',\n",
       " '63a7231d98c14157cdb1b211ec6036df1850a0e5bf96c9329820148269b1ab3d',\n",
       " 'aa7bb6bf6dabe585b201ab32de7109c7986c8deaf11a088668655ca69d7f2b8c',\n",
       " 'eab844044a6100a95e81aa399475db0a342cf59a72081e6dba1e804c4793a4d8',\n",
       " 'eab844044a6100a95e81aa399475db0a342cf59a72081e6dba1e804c4793a4d8',\n",
       " '4f6bfa49457b5074cea37bb52f9b1564fe4e75cf36ca382d46a2b270983ab21a',\n",
       " 'b7e974595dc7cbdd55befcd03fb62f558b166281a48769ac22432ca8eb5f5486',\n",
       " '4f6bfa49457b5074cea37bb52f9b1564fe4e75cf36ca382d46a2b270983ab21a',\n",
       " '3143b254b74635d8abcb94c48487d4b2ac0b7a0d9dee9d7b29a3ed8b9e83720e',\n",
       " '4f6bfa49457b5074cea37bb52f9b1564fe4e75cf36ca382d46a2b270983ab21a',\n",
       " 'b7e974595dc7cbdd55befcd03fb62f558b166281a48769ac22432ca8eb5f5486']"
      ]
     },
     "execution_count": 9,
     "metadata": {},
     "output_type": "execute_result"
    }
   ],
   "source": [
    "get_bip32_privkeys_from_hex('deadbeef', 0)"
   ]
  },
  {
   "cell_type": "code",
   "execution_count": null,
   "metadata": {},
   "outputs": [],
   "source": []
  }
 ],
 "metadata": {
  "kernelspec": {
   "display_name": "phemex-puzzle",
   "language": "python",
   "name": "phemex-puzzle"
  },
  "language_info": {
   "codemirror_mode": {
    "name": "ipython",
    "version": 3
   },
   "file_extension": ".py",
   "mimetype": "text/x-python",
   "name": "python",
   "nbconvert_exporter": "python",
   "pygments_lexer": "ipython3",
   "version": "3.7.0"
  }
 },
 "nbformat": 4,
 "nbformat_minor": 2
}
