{
 "cells": [
  {
   "cell_type": "code",
   "execution_count": 7,
   "metadata": {},
   "outputs": [
    {
     "name": "stdout",
     "output_type": "stream",
     "text": [
      "64.0\n"
     ]
    },
    {
     "data": {
      "text/plain": [
       "True"
      ]
     },
     "execution_count": 7,
     "metadata": {},
     "output_type": "execute_result"
    }
   ],
   "source": [
    "import ecdsa\n",
    "\n",
    "# SECP256k1 is the Bitcoin elliptic curve\n",
    "sk = ecdsa.SigningKey.generate(curve=ecdsa.SECP256k1) \n",
    "vk = sk.get_verifying_key()\n",
    "sig = sk.sign(b\"message\")\n",
    "print(len(sig.hex()) / 2)\n",
    "vk.verify(sig, b\"message\") # True"
   ]
  },
  {
   "cell_type": "code",
   "execution_count": null,
   "metadata": {},
   "outputs": [],
   "source": []
  }
 ],
 "metadata": {
  "kernelspec": {
   "display_name": "phemex-puzzle",
   "language": "python",
   "name": "phemex-puzzle"
  },
  "language_info": {
   "codemirror_mode": {
    "name": "ipython",
    "version": 3
   },
   "file_extension": ".py",
   "mimetype": "text/x-python",
   "name": "python",
   "nbconvert_exporter": "python",
   "pygments_lexer": "ipython3",
   "version": "3.7.0"
  }
 },
 "nbformat": 4,
 "nbformat_minor": 2
}
