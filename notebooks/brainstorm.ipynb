{
 "cells": [
  {
   "cell_type": "code",
   "execution_count": 39,
   "metadata": {},
   "outputs": [
    {
     "name": "stdout",
     "output_type": "stream",
     "text": [
      "64.0\n"
     ]
    }
   ],
   "source": [
    "import ecdsa\n",
    "\n",
    "# SECP256k1 is the Bitcoin elliptic curve\n",
    "sk = ecdsa.SigningKey.generate(curve=ecdsa.SECP256k1) \n",
    "vk = sk.get_verifying_key()\n",
    "sig = sk.sign(b\"message\")\n",
    "# print(len(sig.hex()) / 2)\n",
    "vk.verify(sig, b\"message\") # True\n",
    "print(len(sig.hex()) / 2)"
   ]
  },
  {
   "cell_type": "code",
   "execution_count": 40,
   "metadata": {},
   "outputs": [
    {
     "name": "stdout",
     "output_type": "stream",
     "text": [
      "<class 'pywallet.utils.bip32.Wallet'>\n"
     ]
    }
   ],
   "source": [
    "# create_btc_wallet.py\n",
    "\n",
    "from pywallet.utils.bip32 import Wallet\n",
    "\n",
    "\n",
    "print(Wallet)\n",
    "wallet = Wallet.from_master_secret(bytes.fromhex('deadbeef'), network=\"bitcoin\")"
   ]
  },
  {
   "cell_type": "code",
   "execution_count": 41,
   "metadata": {},
   "outputs": [
    {
     "data": {
      "text/plain": [
       "'1717gtcTF4Y57rN2SQgEQeTLpnPRK7tuTm'"
      ]
     },
     "execution_count": 41,
     "metadata": {},
     "output_type": "execute_result"
    }
   ],
   "source": [
    "wallet.get_child_for_path('m/0/1').to_address()"
   ]
  },
  {
   "cell_type": "code",
   "execution_count": 42,
   "metadata": {},
   "outputs": [
    {
     "data": {
      "text/plain": [
       "'504e455322c8e9110698f4d21ad86e22a308f03b4b5fdda67dee151f025f194e'"
      ]
     },
     "execution_count": 42,
     "metadata": {},
     "output_type": "execute_result"
    }
   ],
   "source": [
    "wallet.get_child_for_path('m/0/1').get_private_key_hex().decode()"
   ]
  },
  {
   "cell_type": "code",
   "execution_count": 5,
   "metadata": {},
   "outputs": [],
   "source": [
    "def c(num):\n",
    "    return len(str(num).rstrip('L'))"
   ]
  },
  {
   "cell_type": "code",
   "execution_count": 6,
   "metadata": {},
   "outputs": [],
   "source": [
    "prime21 = 957496696762772407663"
   ]
  },
  {
   "cell_type": "code",
   "execution_count": null,
   "metadata": {},
   "outputs": [],
   "source": []
  },
  {
   "cell_type": "code",
   "execution_count": null,
   "metadata": {},
   "outputs": [],
   "source": []
  },
  {
   "cell_type": "code",
   "execution_count": null,
   "metadata": {},
   "outputs": [],
   "source": []
  }
 ],
 "metadata": {
  "kernelspec": {
   "display_name": "phemex-puzzle",
   "language": "python",
   "name": "phemex-puzzle"
  },
  "language_info": {
   "codemirror_mode": {
    "name": "ipython",
    "version": 3
   },
   "file_extension": ".py",
   "mimetype": "text/x-python",
   "name": "python",
   "nbconvert_exporter": "python",
   "pygments_lexer": "ipython3",
   "version": "3.7.0"
  }
 },
 "nbformat": 4,
 "nbformat_minor": 2
}
