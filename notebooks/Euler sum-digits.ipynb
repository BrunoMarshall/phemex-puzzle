{
 "cells": [
  {
   "cell_type": "code",
   "execution_count": 1,
   "metadata": {},
   "outputs": [],
   "source": [
    "# Find chunks of 21 digits in Euler that sum to 118"
   ]
  },
  {
   "cell_type": "code",
   "execution_count": 2,
   "metadata": {},
   "outputs": [],
   "source": [
    "from ipynb.fs.full.utils import euler, euler_str, test_num"
   ]
  },
  {
   "cell_type": "code",
   "execution_count": 3,
   "metadata": {},
   "outputs": [
    {
     "data": {
      "text/plain": [
       "11"
      ]
     },
     "execution_count": 3,
     "metadata": {},
     "output_type": "execute_result"
    }
   ],
   "source": [
    "def sum_digits(n):\n",
    "    return sum([int(n) for n in str(n)])\n",
    "sum_digits(641)"
   ]
  },
  {
   "cell_type": "code",
   "execution_count": 4,
   "metadata": {},
   "outputs": [],
   "source": [
    "def nums_with_digits_that_sum_to(n, chunk_size = 21):\n",
    "    for idx in range(0, len(euler_str) + 1 - chunk_size):\n",
    "        start = idx\n",
    "        end = start + chunk_size\n",
    "        num = int(euler_str[start:end])\n",
    "        if sum_digits(num) == n:\n",
    "            yield num"
   ]
  },
  {
   "cell_type": "code",
   "execution_count": 5,
   "metadata": {},
   "outputs": [
    {
     "data": {
      "text/plain": [
       "[526624977572470936999,\n",
       " 266249775724709369995,\n",
       " 957496696762772407663,\n",
       " 987931636889230098793,\n",
       " 738667385894228792284,\n",
       " 385894228792284998920,\n",
       " 792284998920868058257,\n",
       " 905862984967912874068,\n",
       " 747985466775757320568,\n",
       " 836951177883863874439,\n",
       " 506549958862342818997,\n",
       " 995886234281899707733,\n",
       " 345588970719425863987,\n",
       " 897071942586398772754]"
      ]
     },
     "execution_count": 5,
     "metadata": {},
     "output_type": "execute_result"
    }
   ],
   "source": [
    "# chunks of digits in euler that sum to 118\n",
    "nums = list(nums_with_digits_that_sum_to(sum_digits(957496696762772407663)))\n",
    "nums"
   ]
  },
  {
   "cell_type": "code",
   "execution_count": 6,
   "metadata": {},
   "outputs": [],
   "source": [
    "prime21 = 957496696762772407663\n",
    "for num in nums:\n",
    "    test_num(num + prime21)\n",
    "    test_num(num * prime21)\n",
    "    test_num(int(str(num) + str(prime21)))\n",
    "    test_num(int(str(prime21) + str(num)))"
   ]
  },
  {
   "cell_type": "code",
   "execution_count": null,
   "metadata": {},
   "outputs": [],
   "source": []
  }
 ],
 "metadata": {
  "kernelspec": {
   "display_name": "phemex-puzzle",
   "language": "python",
   "name": "phemex-puzzle"
  },
  "language_info": {
   "codemirror_mode": {
    "name": "ipython",
    "version": 3
   },
   "file_extension": ".py",
   "mimetype": "text/x-python",
   "name": "python",
   "nbconvert_exporter": "python",
   "pygments_lexer": "ipython3",
   "version": "3.7.0"
  }
 },
 "nbformat": 4,
 "nbformat_minor": 2
}
