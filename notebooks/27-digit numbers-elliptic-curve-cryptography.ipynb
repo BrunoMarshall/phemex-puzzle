{
 "cells": [
  {
   "cell_type": "code",
   "execution_count": 1,
   "metadata": {},
   "outputs": [],
   "source": [
    "from ipynb.fs.full.utils import test_n, count_digits, b58decode_to_num, to_hex\n",
    "from fastecdsa.curve import P256, secp256k1\n",
    "from fastecdsa.point import Point\n",
    "from bit.format import public_key_to_coords\n",
    "from bit.curve import x_to_y # get y given x on bitcoin curve"
   ]
  },
  {
   "cell_type": "code",
   "execution_count": 2,
   "metadata": {},
   "outputs": [
    {
     "data": {
      "text/plain": [
       "102334"
      ]
     },
     "execution_count": 2,
     "metadata": {},
     "output_type": "execute_result"
    }
   ],
   "source": [
    "XRP = b58decode_to_num('XRP')\n",
    "XRP"
   ]
  },
  {
   "cell_type": "code",
   "execution_count": 3,
   "metadata": {},
   "outputs": [
    {
     "data": {
      "text/plain": [
       "45256"
      ]
     },
     "execution_count": 3,
     "metadata": {},
     "output_type": "execute_result"
    }
   ],
   "source": [
    "ETH = b58decode_to_num('ETH')\n",
    "ETH"
   ]
  },
  {
   "cell_type": "code",
   "execution_count": 4,
   "metadata": {},
   "outputs": [
    {
     "data": {
      "text/plain": [
       "35159"
      ]
     },
     "execution_count": 4,
     "metadata": {},
     "output_type": "execute_result"
    }
   ],
   "source": [
    "BTC = b58decode_to_num('BTC')\n",
    "BTC"
   ]
  },
  {
   "cell_type": "code",
   "execution_count": 50,
   "metadata": {},
   "outputs": [
    {
     "data": {
      "text/plain": [
       "14899878097"
      ]
     },
     "execution_count": 50,
     "metadata": {},
     "output_type": "execute_result"
    }
   ],
   "source": [
    "Phemex = b58decode_to_num('Phemex')\n",
    "Phemex"
   ]
  },
  {
   "cell_type": "code",
   "execution_count": 6,
   "metadata": {},
   "outputs": [],
   "source": [
    "# nevermind\n",
    "\n",
    "    # return public_key_to_coords(bytes.fromhex(to_hex(n)))"
   ]
  },
  {
   "cell_type": "code",
   "execution_count": 58,
   "metadata": {},
   "outputs": [
    {
     "data": {
      "text/plain": [
       "(81711695698120528823702224200152444807852533838308190323095632711676934493619,\n",
       " 38191962440047294992876059341866217427942986040175219058221076827770951764447)"
      ]
     },
     "execution_count": 58,
     "metadata": {},
     "output_type": "execute_result"
    }
   ],
   "source": [
    "def num_to_pubkey(x, even = False):\n",
    "    flag = 0x02 if even else 0x03\n",
    "    y = x_to_y(x, flag & 1)\n",
    "    return (x, y)\n",
    "num_to_pubkey(int('b4a72e4aaa69ba04b80c6891df01f50d191a65eccc61e4e9862d1e421ce815b3', 16))"
   ]
  },
  {
   "cell_type": "code",
   "execution_count": 80,
   "metadata": {},
   "outputs": [],
   "source": [
    "def num_to_point(n, even = False):\n",
    "    x, y = num_to_pubkey(n, even)\n",
    "    return Point(x, y, curve=secp256k1)\n",
    "# num_to_point(14899878097, True)"
   ]
  },
  {
   "cell_type": "code",
   "execution_count": 42,
   "metadata": {},
   "outputs": [
    {
     "data": {
      "text/plain": [
       "(102334,\n",
       " 43443943652659495482763951542401895026471507620951080643270760545726058105956)"
      ]
     },
     "execution_count": 42,
     "metadata": {},
     "output_type": "execute_result"
    }
   ],
   "source": [
    "XRP_pubk = num_to_pubkey(XRP)\n",
    "XRP_pubk"
   ]
  },
  {
   "cell_type": "code",
   "execution_count": 43,
   "metadata": {},
   "outputs": [
    {
     "data": {
      "text/plain": [
       "(45256,\n",
       " 53182894531637663846931074394570900512405051258288968336185527533654011498362)"
      ]
     },
     "execution_count": 43,
     "metadata": {},
     "output_type": "execute_result"
    }
   ],
   "source": [
    "ETH_pubk = num_to_pubkey(ETH)\n",
    "ETH_pubk"
   ]
  },
  {
   "cell_type": "code",
   "execution_count": 44,
   "metadata": {},
   "outputs": [
    {
     "data": {
      "text/plain": [
       "(35159,\n",
       " 68337550929403535712485442944016276317397675381036117522324422518940866124504)"
      ]
     },
     "execution_count": 44,
     "metadata": {},
     "output_type": "execute_result"
    }
   ],
   "source": [
    "BTC_pubk = num_to_pubkey(BTC)\n",
    "BTC_pubk"
   ]
  },
  {
   "cell_type": "code",
   "execution_count": 56,
   "metadata": {},
   "outputs": [
    {
     "data": {
      "text/plain": [
       "(14899878097,\n",
       " 89560471355610010572904808202951638657047822336137239124345638656656888832933)"
      ]
     },
     "execution_count": 56,
     "metadata": {},
     "output_type": "execute_result"
    }
   ],
   "source": [
    "Phemex_pubk = num_to_pubkey(Phemex, False)\n",
    "Phemex_pubk"
   ]
  },
  {
   "cell_type": "code",
   "execution_count": 46,
   "metadata": {},
   "outputs": [
    {
     "data": {
      "text/plain": [
       "X: 0x18fbe\n",
       "Y: 0x600c669610ccb563158a4f1b58b299e84e0982a2dd5e25587f0d41dccc7a8c64\n",
       "(On curve <secp256k1>)"
      ]
     },
     "execution_count": 46,
     "metadata": {},
     "output_type": "execute_result"
    }
   ],
   "source": [
    "# this throws an error if point not on curve so we know that num_to_pubkey works\n",
    "XRP_point = Point(XRP_pubk[0], XRP_pubk[1], curve=secp256k1)\n",
    "XRP_point"
   ]
  },
  {
   "cell_type": "code",
   "execution_count": 47,
   "metadata": {},
   "outputs": [
    {
     "data": {
      "text/plain": [
       "X: 0xb0c8\n",
       "Y: 0x7594739b14c3870db7f12b692e07683230a48d95bc1e5051b895cd08a7af4f7a\n",
       "(On curve <secp256k1>)"
      ]
     },
     "execution_count": 47,
     "metadata": {},
     "output_type": "execute_result"
    }
   ],
   "source": [
    "ETH_point = Point(ETH_pubk[0], ETH_pubk[1], curve=secp256k1)\n",
    "ETH_point"
   ]
  },
  {
   "cell_type": "code",
   "execution_count": 48,
   "metadata": {},
   "outputs": [
    {
     "data": {
      "text/plain": [
       "X: 0x8957\n",
       "Y: 0x9715aee24d7636a68dbdb7a3fd5c1f9b84cd067a97a6a3135f85120f37031ad8\n",
       "(On curve <secp256k1>)"
      ]
     },
     "execution_count": 48,
     "metadata": {},
     "output_type": "execute_result"
    }
   ],
   "source": [
    "BTC_point = Point(BTC_pubk[0], BTC_pubk[1], curve=secp256k1)\n",
    "BTC_point"
   ]
  },
  {
   "cell_type": "code",
   "execution_count": 89,
   "metadata": {},
   "outputs": [],
   "source": [
    "# Phemex_point = Point(Phemex_pubk[0], Phemex_pubk[1], curve=secp256k1)\n",
    "# why does this throw!??"
   ]
  },
  {
   "cell_type": "code",
   "execution_count": 86,
   "metadata": {},
   "outputs": [
    {
     "data": {
      "text/plain": [
       "X: 0xf5311aaf25578ee33fea32e19b9b858a0519963d77712a4dff72a28132245e18\n",
       "Y: 0xd58602473a2e08c14d167357921bc1616410068af16f34f95cbc12afaa651de4\n",
       "(On curve <secp256k1>)"
      ]
     },
     "execution_count": 86,
     "metadata": {},
     "output_type": "execute_result"
    }
   ],
   "source": [
    "XRP_point + ETH_point + XRP_point"
   ]
  },
  {
   "cell_type": "code",
   "execution_count": 87,
   "metadata": {},
   "outputs": [],
   "source": [
    "# not gonna find 27 digit numbers here...."
   ]
  },
  {
   "cell_type": "code",
   "execution_count": null,
   "metadata": {},
   "outputs": [],
   "source": []
  }
 ],
 "metadata": {
  "kernelspec": {
   "display_name": "phemex-puzzle",
   "language": "python",
   "name": "phemex-puzzle"
  },
  "language_info": {
   "codemirror_mode": {
    "name": "ipython",
    "version": 3
   },
   "file_extension": ".py",
   "mimetype": "text/x-python",
   "name": "python",
   "nbconvert_exporter": "python",
   "pygments_lexer": "ipython3",
   "version": "3.7.0"
  }
 },
 "nbformat": 4,
 "nbformat_minor": 2
}
