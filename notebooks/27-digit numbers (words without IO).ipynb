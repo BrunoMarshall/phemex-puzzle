{
 "cells": [
  {
   "cell_type": "code",
   "execution_count": 4,
   "metadata": {},
   "outputs": [],
   "source": [
    "from ipynb.fs.full.utils import char_encoding_alpha, test_num, to_hex\n",
    "from functools import reduce\n",
    "from bit.base58 import b58decode, b58encode_check, b58decode_check #, b58decode_check, b58encode, b58encode_check\n",
    "from itertools import permutations\n",
    "from ipynb.fs.full.hashes import sha256, double_sha256, ripemd, double_sha256_ripemd, sha256_ripemd, ripemd_sha256, ripemd_double_sha256"
   ]
  },
  {
   "cell_type": "code",
   "execution_count": 5,
   "metadata": {},
   "outputs": [
    {
     "data": {
      "text/plain": [
       "3"
      ]
     },
     "execution_count": 5,
     "metadata": {},
     "output_type": "execute_result"
    }
   ],
   "source": [
    "def count_digits(num):\n",
    "    return len(str(num).rstrip('L'))\n",
    "\n",
    "count_digits('100L')"
   ]
  },
  {
   "cell_type": "code",
   "execution_count": 6,
   "metadata": {},
   "outputs": [
    {
     "data": {
      "text/plain": [
       "123456789"
      ]
     },
     "execution_count": 6,
     "metadata": {},
     "output_type": "execute_result"
    }
   ],
   "source": [
    "def b58decode_to_num(s):\n",
    "    b = b58decode(s)\n",
    "    return int(b.hex(), 16)\n",
    "b58decode_to_num('BukQL')"
   ]
  },
  {
   "cell_type": "code",
   "execution_count": 64,
   "metadata": {},
   "outputs": [],
   "source": [
    "# all valid base58 strings\n",
    "strings = ['XRP', 'ETH', 'BTC', 'Phemex', 'e', '21']\n",
    "# strings = ['XRP', 'ETH', 'BTC', 'Phemex', e']"
   ]
  },
  {
   "cell_type": "code",
   "execution_count": 65,
   "metadata": {},
   "outputs": [
    {
     "data": {
      "text/plain": [
       "[102334, 45256, 35159, 14899878097, 37, 58]"
      ]
     },
     "execution_count": 65,
     "metadata": {},
     "output_type": "execute_result"
    }
   ],
   "source": [
    "nums = [b58decode_to_num(s) for s in strings]\n",
    "nums"
   ]
  },
  {
   "cell_type": "code",
   "execution_count": 66,
   "metadata": {},
   "outputs": [
    {
     "data": {
      "text/plain": [
       "31"
      ]
     },
     "execution_count": 66,
     "metadata": {},
     "output_type": "execute_result"
    }
   ],
   "source": [
    "count_digits(int(''.join([str(n) for n in nums])))"
   ]
  },
  {
   "cell_type": "code",
   "execution_count": 67,
   "metadata": {},
   "outputs": [],
   "source": [
    "def prod(xs):\n",
    "    return reduce(lambda acc, x: acc * x, xs)"
   ]
  },
  {
   "cell_type": "code",
   "execution_count": 68,
   "metadata": {},
   "outputs": [
    {
     "data": {
      "text/plain": [
       "28"
      ]
     },
     "execution_count": 68,
     "metadata": {},
     "output_type": "execute_result"
    }
   ],
   "source": [
    "count_digits(prod(nums))"
   ]
  },
  {
   "cell_type": "code",
   "execution_count": 69,
   "metadata": {},
   "outputs": [
    {
     "data": {
      "text/plain": [
       "31"
      ]
     },
     "execution_count": 69,
     "metadata": {},
     "output_type": "execute_result"
    }
   ],
   "source": [
    "len(''.join([str(n) for n in nums]))"
   ]
  },
  {
   "cell_type": "code",
   "execution_count": 70,
   "metadata": {},
   "outputs": [],
   "source": [
    "def test_n(n):\n",
    "    test_num(prime21 * n)\n",
    "    test_num(prime21, n)\n",
    "    test_num(n, prime21)\n",
    "    test_num(int(str(prime21) + str(n)))\n",
    "    test_num(int(str(n) + str(prime21)))\n",
    "    for hashfn in hashfns:\n",
    "        test_num(hashfn(str(n) + str(prime21)))\n",
    "        test_num(hashfn(str(prime21) + str(n)))"
   ]
  },
  {
   "cell_type": "code",
   "execution_count": 71,
   "metadata": {},
   "outputs": [],
   "source": [
    "nums = [b58decode_to_num(''.join(s)) for s in permutations(strings)]"
   ]
  },
  {
   "cell_type": "code",
   "execution_count": null,
   "metadata": {},
   "outputs": [],
   "source": []
  }
 ],
 "metadata": {
  "kernelspec": {
   "display_name": "phemex-puzzle",
   "language": "python",
   "name": "phemex-puzzle"
  },
  "language_info": {
   "codemirror_mode": {
    "name": "ipython",
    "version": 3
   },
   "file_extension": ".py",
   "mimetype": "text/x-python",
   "name": "python",
   "nbconvert_exporter": "python",
   "pygments_lexer": "ipython3",
   "version": "3.7.0"
  }
 },
 "nbformat": 4,
 "nbformat_minor": 2
}
