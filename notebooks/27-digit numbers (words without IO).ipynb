{
 "cells": [
  {
   "cell_type": "code",
   "execution_count": 92,
   "metadata": {},
   "outputs": [],
   "source": [
    "from ipynb.fs.full.utils import char_encoding_alpha, test_num, to_hex\n",
    "from functools import reduce\n",
    "from bit.base58 import BASE58_ALPHABET, b58decode, b58encode_check, b58decode_check #, b58decode_check, b58encode, b58encode_check\n",
    "from itertools import permutations\n",
    "from ipynb.fs.full.hashes import sha256, double_sha256, ripemd, double_sha256_ripemd, sha256_ripemd, ripemd_sha256, ripemd_double_sha256"
   ]
  },
  {
   "cell_type": "code",
   "execution_count": 5,
   "metadata": {},
   "outputs": [
    {
     "data": {
      "text/plain": [
       "3"
      ]
     },
     "execution_count": 5,
     "metadata": {},
     "output_type": "execute_result"
    }
   ],
   "source": [
    "def count_digits(num):\n",
    "    return len(str(num).rstrip('L'))\n",
    "\n",
    "count_digits('100L')"
   ]
  },
  {
   "cell_type": "code",
   "execution_count": 6,
   "metadata": {},
   "outputs": [
    {
     "data": {
      "text/plain": [
       "123456789"
      ]
     },
     "execution_count": 6,
     "metadata": {},
     "output_type": "execute_result"
    }
   ],
   "source": [
    "def b58decode_to_num(s):\n",
    "    b = b58decode(s)\n",
    "    return int(b.hex(), 16)\n",
    "b58decode_to_num('BukQL')"
   ]
  },
  {
   "cell_type": "code",
   "execution_count": 72,
   "metadata": {},
   "outputs": [],
   "source": [
    "# all valid base58 strings\n",
    "strings = ['XRP', 'ETH', 'BTC', 'Phemex']"
   ]
  },
  {
   "cell_type": "code",
   "execution_count": 73,
   "metadata": {},
   "outputs": [
    {
     "data": {
      "text/plain": [
       "[102334, 45256, 35159, 14899878097]"
      ]
     },
     "execution_count": 73,
     "metadata": {},
     "output_type": "execute_result"
    }
   ],
   "source": [
    "nums = [b58decode_to_num(s) for s in strings]\n",
    "nums"
   ]
  },
  {
   "cell_type": "code",
   "execution_count": 74,
   "metadata": {},
   "outputs": [
    {
     "data": {
      "text/plain": [
       "27"
      ]
     },
     "execution_count": 74,
     "metadata": {},
     "output_type": "execute_result"
    }
   ],
   "source": [
    "count_digits(int(''.join([str(n) for n in nums])))"
   ]
  },
  {
   "cell_type": "code",
   "execution_count": 75,
   "metadata": {},
   "outputs": [],
   "source": [
    "def prod(xs):\n",
    "    return reduce(lambda acc, x: acc * x, xs)"
   ]
  },
  {
   "cell_type": "code",
   "execution_count": 76,
   "metadata": {},
   "outputs": [
    {
     "data": {
      "text/plain": [
       "25"
      ]
     },
     "execution_count": 76,
     "metadata": {},
     "output_type": "execute_result"
    }
   ],
   "source": [
    "count_digits(prod(nums))"
   ]
  },
  {
   "cell_type": "code",
   "execution_count": 77,
   "metadata": {},
   "outputs": [
    {
     "data": {
      "text/plain": [
       "27"
      ]
     },
     "execution_count": 77,
     "metadata": {},
     "output_type": "execute_result"
    }
   ],
   "source": [
    "len(''.join([str(n) for n in nums]))"
   ]
  },
  {
   "cell_type": "code",
   "execution_count": 78,
   "metadata": {},
   "outputs": [],
   "source": [
    "def test_n(n):\n",
    "    test_num(prime21 * n)\n",
    "    test_num(prime21, n)\n",
    "    test_num(n, prime21)\n",
    "    test_num(int(str(prime21) + str(n)))\n",
    "    test_num(int(str(n) + str(prime21)))\n",
    "    for hashfn in hashfns:\n",
    "        test_num(hashfn(str(n) + str(prime21)))\n",
    "        test_num(hashfn(str(prime21) + str(n)))"
   ]
  },
  {
   "cell_type": "code",
   "execution_count": 79,
   "metadata": {},
   "outputs": [],
   "source": [
    "nums = [b58decode_to_num(''.join(s)) for s in permutations(strings)]"
   ]
  },
  {
   "cell_type": "code",
   "execution_count": 81,
   "metadata": {},
   "outputs": [
    {
     "data": {
      "text/plain": [
       "['First',\n",
       " '21-digit',\n",
       " 'prime',\n",
       " 'found',\n",
       " 'in',\n",
       " 'consecutive',\n",
       " 'digits',\n",
       " 'of',\n",
       " 'e',\n",
       " 'XRP',\n",
       " 'ETH',\n",
       " 'BTC',\n",
       " 'Phemex']"
      ]
     },
     "execution_count": 81,
     "metadata": {},
     "output_type": "execute_result"
    }
   ],
   "source": [
    "sentence = ['First', '21-digit', 'prime', 'found', 'in', 'consecutive', 'digits', 'of', 'e']\n",
    "words = sentence + strings\n",
    "words"
   ]
  },
  {
   "cell_type": "code",
   "execution_count": 86,
   "metadata": {},
   "outputs": [
    {
     "name": "stdout",
     "output_type": "stream",
     "text": [
      "First: 166598323\n",
      "prime: 541576313\n",
      "found: 439179574\n",
      "in: 2423\n",
      "consecutive: 15425694213501219395\n",
      "digits: 24100570284\n",
      "of: 2706\n",
      "e: 37\n",
      "XRP: 102334\n",
      "ETH: 45256\n",
      "BTC: 35159\n",
      "Phemex: 14899878097\n"
     ]
    }
   ],
   "source": [
    "nums = []\n",
    "for w in words:\n",
    "    try:\n",
    "        n = b58decode_to_num(w)\n",
    "        print('{}: {}'.format(w, n))\n",
    "        nums.append(n)\n",
    "    except:\n",
    "        pass"
   ]
  },
  {
   "cell_type": "code",
   "execution_count": 87,
   "metadata": {},
   "outputs": [
    {
     "data": {
      "text/plain": [
       "[166598323,\n",
       " 541576313,\n",
       " 439179574,\n",
       " 2423,\n",
       " 15425694213501219395,\n",
       " 24100570284,\n",
       " 2706,\n",
       " 37,\n",
       " 102334,\n",
       " 45256,\n",
       " 35159,\n",
       " 14899878097]"
      ]
     },
     "execution_count": 87,
     "metadata": {},
     "output_type": "execute_result"
    }
   ],
   "source": [
    "nums"
   ]
  },
  {
   "cell_type": "code",
   "execution_count": 89,
   "metadata": {},
   "outputs": [
    {
     "data": {
      "text/plain": [
       "88"
      ]
     },
     "execution_count": 89,
     "metadata": {},
     "output_type": "execute_result"
    }
   ],
   "source": [
    "count_digits(prod(nums))"
   ]
  },
  {
   "cell_type": "code",
   "execution_count": 90,
   "metadata": {},
   "outputs": [
    {
     "data": {
      "text/plain": [
       "20"
      ]
     },
     "execution_count": 90,
     "metadata": {},
     "output_type": "execute_result"
    }
   ],
   "source": [
    "count_digits(sum(nums))"
   ]
  },
  {
   "cell_type": "code",
   "execution_count": 91,
   "metadata": {},
   "outputs": [
    {
     "data": {
      "text/plain": [
       "['XRP', 'ETH', 'BTC', 'Phemex']"
      ]
     },
     "execution_count": 91,
     "metadata": {},
     "output_type": "execute_result"
    }
   ],
   "source": [
    "strings"
   ]
  },
  {
   "cell_type": "code",
   "execution_count": 95,
   "metadata": {},
   "outputs": [],
   "source": [
    "def remove_invalid_b58_chars(w):\n",
    "    return \"\".join(filter(lambda c: c in BASE58_ALPHABET, list(w)))"
   ]
  },
  {
   "cell_type": "code",
   "execution_count": 96,
   "metadata": {},
   "outputs": [
    {
     "data": {
      "text/plain": [
       "['First',\n",
       " '21digit',\n",
       " 'prime',\n",
       " 'found',\n",
       " 'in',\n",
       " 'consecutive',\n",
       " 'digits',\n",
       " 'of',\n",
       " 'e']"
      ]
     },
     "execution_count": 96,
     "metadata": {},
     "output_type": "execute_result"
    }
   ],
   "source": [
    "[remove_invalid_b58_chars(w) for w in sentence]"
   ]
  },
  {
   "cell_type": "code",
   "execution_count": 97,
   "metadata": {},
   "outputs": [],
   "source": [
    "valid_sentence = ''.join([remove_invalid_b58_chars(w) for w in sentence])"
   ]
  },
  {
   "cell_type": "code",
   "execution_count": 98,
   "metadata": {},
   "outputs": [
    {
     "data": {
      "text/plain": [
       "'First21digitprimefoundinconsecutivedigitsofe'"
      ]
     },
     "execution_count": 98,
     "metadata": {},
     "output_type": "execute_result"
    }
   ],
   "source": [
    "valid_sentence"
   ]
  },
  {
   "cell_type": "code",
   "execution_count": 99,
   "metadata": {},
   "outputs": [
    {
     "data": {
      "text/plain": [
       "98937828556178796579658191103243112719383910867025472445558738924062218323481"
      ]
     },
     "execution_count": 99,
     "metadata": {},
     "output_type": "execute_result"
    }
   ],
   "source": [
    "b58decode_to_num(valid_sentence)"
   ]
  },
  {
   "cell_type": "code",
   "execution_count": 100,
   "metadata": {},
   "outputs": [
    {
     "data": {
      "text/plain": [
       "77"
      ]
     },
     "execution_count": 100,
     "metadata": {},
     "output_type": "execute_result"
    }
   ],
   "source": [
    "count_digits(b58decode_to_num(valid_sentence))"
   ]
  },
  {
   "cell_type": "code",
   "execution_count": 104,
   "metadata": {},
   "outputs": [
    {
     "data": {
      "text/plain": [
       "['XRP',\n",
       " 'ETH',\n",
       " 'BTC',\n",
       " 'Phemex',\n",
       " 'First',\n",
       " '21digit',\n",
       " 'prime',\n",
       " 'found',\n",
       " 'in',\n",
       " 'consecutive',\n",
       " 'digits',\n",
       " 'of',\n",
       " 'e']"
      ]
     },
     "execution_count": 104,
     "metadata": {},
     "output_type": "execute_result"
    }
   ],
   "source": [
    "lst = strings + [remove_invalid_b58_chars(w) for w in sentence]\n",
    "lst"
   ]
  },
  {
   "cell_type": "code",
   "execution_count": 105,
   "metadata": {},
   "outputs": [
    {
     "data": {
      "text/plain": [
       "15425694292133429518"
      ]
     },
     "execution_count": 105,
     "metadata": {},
     "output_type": "execute_result"
    }
   ],
   "source": [
    "sum([b58decode_to_num(n) for n in lst])"
   ]
  },
  {
   "cell_type": "code",
   "execution_count": 106,
   "metadata": {},
   "outputs": [
    {
     "data": {
      "text/plain": [
       "20"
      ]
     },
     "execution_count": 106,
     "metadata": {},
     "output_type": "execute_result"
    }
   ],
   "source": [
    "count_digits(15425694292133429518)"
   ]
  },
  {
   "cell_type": "code",
   "execution_count": null,
   "metadata": {},
   "outputs": [],
   "source": []
  }
 ],
 "metadata": {
  "kernelspec": {
   "display_name": "phemex-puzzle",
   "language": "python",
   "name": "phemex-puzzle"
  },
  "language_info": {
   "codemirror_mode": {
    "name": "ipython",
    "version": 3
   },
   "file_extension": ".py",
   "mimetype": "text/x-python",
   "name": "python",
   "nbconvert_exporter": "python",
   "pygments_lexer": "ipython3",
   "version": "3.7.0"
  }
 },
 "nbformat": 4,
 "nbformat_minor": 2
}
