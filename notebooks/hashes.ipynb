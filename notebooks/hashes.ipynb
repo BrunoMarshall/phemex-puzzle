{
 "cells": [
  {
   "cell_type": "code",
   "execution_count": 1,
   "metadata": {},
   "outputs": [],
   "source": [
    "import hashlib"
   ]
  },
  {
   "cell_type": "code",
   "execution_count": 2,
   "metadata": {},
   "outputs": [],
   "source": [
    "def sha256(s):\n",
    "    h = s.encode()\n",
    "    h = hashlib.sha256(h).digest()\n",
    "    return int(h.hex(), 16)\n",
    "def double_sha256(s):\n",
    "    h = s.encode()\n",
    "    h = hashlib.sha256(h).digest()\n",
    "    h = hashlib.sha256(h).digest()\n",
    "    return int(h.hex(), 16)\n",
    "def ripemd(s):\n",
    "    h = s.encode()\n",
    "    h2 = hashlib.new('ripemd160')\n",
    "    h2.update(h)\n",
    "    h = h2.digest()\n",
    "    return int(h.hex(), 16)\n",
    "def double_sha256_ripemd(s):\n",
    "    h = s.encode()\n",
    "    h = hashlib.sha256(h).digest()\n",
    "    h = hashlib.sha256(h).digest()\n",
    "    h2 = hashlib.new('ripemd160')\n",
    "    h2.update(h)\n",
    "    h = h2.digest()\n",
    "    return int(h.hex(), 16)\n",
    "def sha256_ripemd(s):\n",
    "    h = s.encode()\n",
    "    h = hashlib.sha256(h).digest()\n",
    "    h2 = hashlib.new('ripemd160')\n",
    "    h2.update(h)\n",
    "    h = h2.digest()\n",
    "    return int(h.hex(), 16)\n",
    "def ripemd_sha256(s):\n",
    "    h = s.encode()\n",
    "    h2 = hashlib.new('ripemd160')\n",
    "    h2.update(h)\n",
    "    h = h2.digest()\n",
    "    h = hashlib.sha256(h).digest()\n",
    "    return int(h.hex(), 16)\n",
    "def ripemd_double_sha256(s):\n",
    "    h = s.encode()\n",
    "    h = hashlib.sha256(h).digest()\n",
    "    h = hashlib.sha256(h).digest()\n",
    "\n",
    "    h2 = hashlib.new('ripemd160')\n",
    "    h2.update(h)\n",
    "    h = h2.digest()\n",
    "    return int(h.hex(), 16)"
   ]
  }
 ],
 "metadata": {
  "kernelspec": {
   "display_name": "phemex-puzzle",
   "language": "python",
   "name": "phemex-puzzle"
  },
  "language_info": {
   "codemirror_mode": {
    "name": "ipython",
    "version": 3
   },
   "file_extension": ".py",
   "mimetype": "text/x-python",
   "name": "python",
   "nbconvert_exporter": "python",
   "pygments_lexer": "ipython3",
   "version": "3.7.0"
  }
 },
 "nbformat": 4,
 "nbformat_minor": 2
}
