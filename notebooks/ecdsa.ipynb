{
 "cells": [
  {
   "cell_type": "code",
   "execution_count": 1,
   "metadata": {},
   "outputs": [],
   "source": [
    "from ecdsa import SigningKey, SECP256k1\n",
    "from ipynb.fs.full.utils import test_hex, all_strings"
   ]
  },
  {
   "cell_type": "code",
   "execution_count": 2,
   "metadata": {},
   "outputs": [],
   "source": [
    "prime21 = 957496696762772407663"
   ]
  },
  {
   "cell_type": "code",
   "execution_count": 3,
   "metadata": {},
   "outputs": [],
   "source": [
    "sk = SigningKey.from_secret_exponent(prime21, curve=SECP256k1)"
   ]
  },
  {
   "cell_type": "code",
   "execution_count": 4,
   "metadata": {},
   "outputs": [],
   "source": [
    "strings = all_strings(['ETH', 'BTC', 'XRP', 'Phemex', '957496696762772407663', 'dorian'])"
   ]
  },
  {
   "cell_type": "code",
   "execution_count": 5,
   "metadata": {},
   "outputs": [
    {
     "data": {
      "text/plain": [
       "['957496696762772407663ETHBTCdorianXRP',\n",
       " '957496696762772407663ETHBTCdorianPhemex',\n",
       " '957496696762772407663ETHXRPBTCPhemex',\n",
       " '957496696762772407663ETHXRPBTCdorian',\n",
       " '957496696762772407663ETHXRPPhemexBTC',\n",
       " '957496696762772407663ETHXRPPhemexdorian',\n",
       " '957496696762772407663ETHXRPdorianBTC',\n",
       " '957496696762772407663ETHXRPdorianPhemex',\n",
       " '957496696762772407663ETHPhemexBTCXRP',\n",
       " '957496696762772407663ETHPhemexBTCdorian']"
      ]
     },
     "execution_count": 5,
     "metadata": {},
     "output_type": "execute_result"
    }
   ],
   "source": [
    "strings[1000:1010]"
   ]
  },
  {
   "cell_type": "code",
   "execution_count": 6,
   "metadata": {},
   "outputs": [
    {
     "data": {
      "text/plain": [
       "58680"
      ]
     },
     "execution_count": 6,
     "metadata": {},
     "output_type": "execute_result"
    }
   ],
   "source": [
    "len(strings)"
   ]
  },
  {
   "cell_type": "code",
   "execution_count": 7,
   "metadata": {},
   "outputs": [],
   "source": [
    "for s in strings:\n",
    "    sig = sk.sign(s.encode())\n",
    "    test_hex(sig.hex())"
   ]
  },
  {
   "cell_type": "code",
   "execution_count": null,
   "metadata": {},
   "outputs": [],
   "source": []
  }
 ],
 "metadata": {
  "kernelspec": {
   "display_name": "phemex-puzzle",
   "language": "python",
   "name": "phemex-puzzle"
  },
  "language_info": {
   "codemirror_mode": {
    "name": "ipython",
    "version": 3
   },
   "file_extension": ".py",
   "mimetype": "text/x-python",
   "name": "python",
   "nbconvert_exporter": "python",
   "pygments_lexer": "ipython3",
   "version": "3.7.0"
  }
 },
 "nbformat": 4,
 "nbformat_minor": 2
}
