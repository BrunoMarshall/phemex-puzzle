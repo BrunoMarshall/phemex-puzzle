{
 "cells": [
  {
   "cell_type": "code",
   "execution_count": 1,
   "metadata": {},
   "outputs": [],
   "source": [
    "from bit import Key\n",
    "from bit.format import bytes_to_wif\n"
   ]
  },
  {
   "cell_type": "code",
   "execution_count": 2,
   "metadata": {},
   "outputs": [],
   "source": [
    "def uncompressed_key(key):\n",
    "    return Key(bytes_to_wif(key.to_bytes(), compressed=False))"
   ]
  },
  {
   "cell_type": "code",
   "execution_count": 3,
   "metadata": {},
   "outputs": [
    {
     "data": {
      "text/plain": [
       "<PrivateKey: 1LoVGDgRs9hTfTNJNuXKSpywcbdvwRXpmK>"
      ]
     },
     "execution_count": 3,
     "metadata": {},
     "output_type": "execute_result"
    }
   ],
   "source": [
    "priv_key_compressed = Key.from_hex('0C28FCA386C7A227600B2FE50B7CAE11EC86D3BF1FBE471BE89827E19D72AA1D')\n",
    "priv_key_compressed"
   ]
  },
  {
   "cell_type": "code",
   "execution_count": 4,
   "metadata": {},
   "outputs": [
    {
     "data": {
      "text/plain": [
       "<PrivateKey: 1GAehh7TsJAHuUAeKZcXf5CnwuGuGgyX2S>"
      ]
     },
     "execution_count": 4,
     "metadata": {},
     "output_type": "execute_result"
    }
   ],
   "source": [
    "priv_key_uncompressed = uncompressed_key(priv_key_compressed)\n",
    "priv_key_uncompressed"
   ]
  },
  {
   "cell_type": "code",
   "execution_count": 5,
   "metadata": {},
   "outputs": [],
   "source": [
    "def test_key(key, addr):\n",
    "    if (key.address == addr):\n",
    "        print('found private key!')\n",
    "        print(key.to_wif())\n",
    "        return True\n",
    "    return False"
   ]
  },
  {
   "cell_type": "code",
   "execution_count": 6,
   "metadata": {},
   "outputs": [],
   "source": [
    "def test_hex(hex, addr = \"1h8BNZkhsPiu6EKazP19WkGxDw3jHf9aT\"):\n",
    "    priv_key_compressed = Key.from_hex(hex)\n",
    "    priv_key_uncompressed = uncompressed_key(priv_key_compressed)\n",
    "    if (test_key(priv_key_compressed, addr)):\n",
    "        return True\n",
    "    if (test_key(priv_key_uncompressed, addr)):\n",
    "        return True\n",
    "    return False"
   ]
  },
  {
   "cell_type": "code",
   "execution_count": 7,
   "metadata": {},
   "outputs": [],
   "source": [
    "# test_hex('0C28FCA386C7A227600B2FE50B7CAE11EC86D3BF1FBE471BE89827E19D72AA1D', '1LoVGDgRs9hTfTNJNuXKSpywcbdvwRXpmK')"
   ]
  },
  {
   "cell_type": "code",
   "execution_count": 8,
   "metadata": {},
   "outputs": [],
   "source": [
    "# test_hex('0C28FCA386C7A227600B2FE50B7CAE11EC86D3BF1FBE471BE89827E19D72AA1D', '1GAehh7TsJAHuUAeKZcXf5CnwuGuGgyX2S')"
   ]
  },
  {
   "cell_type": "code",
   "execution_count": 9,
   "metadata": {},
   "outputs": [],
   "source": [
    "# test_hex('0C28FCA386C7A227600B2FE50B7CAE11EC86D3BF1FBE471BE89827E19D72AA1D')"
   ]
  },
  {
   "cell_type": "code",
   "execution_count": 10,
   "metadata": {},
   "outputs": [],
   "source": [
    "def to_hex(num):\n",
    "    return hex(num).lstrip(\"0x\").rstrip(\"L\")"
   ]
  },
  {
   "cell_type": "code",
   "execution_count": 11,
   "metadata": {},
   "outputs": [
    {
     "data": {
      "text/plain": [
       "'33e7ef9cabbaf6c56f'"
      ]
     },
     "execution_count": 11,
     "metadata": {},
     "output_type": "execute_result"
    }
   ],
   "source": [
    "to_hex(957496696762772407663)"
   ]
  },
  {
   "cell_type": "code",
   "execution_count": 12,
   "metadata": {},
   "outputs": [],
   "source": [
    "def test_num(num):\n",
    "    return test_hex(to_hex(num))"
   ]
  },
  {
   "cell_type": "code",
   "execution_count": 13,
   "metadata": {},
   "outputs": [],
   "source": [
    "# taken from https://apod.nasa.gov/htmltest/gifcity/e.2mil\n",
    "euler = '''\n",
    "2.718281828459045235360287471352662497757247093699959574966\n",
    "967627724076630353547594571382178525166427427466391932003059\n",
    "921817413596629043572900334295260595630738132328627943490763\n",
    "233829880753195251019011573834187930702154089149934884167509\n",
    "244761460668082264800168477411853742345442437107539077744992\n",
    "069551702761838606261331384583000752044933826560297606737113\n",
    "200709328709127443747047230696977209310141692836819025515108\n",
    "657463772111252389784425056953696770785449969967946864454905\n",
    "987931636889230098793127736178215424999229576351482208269895\n",
    "193668033182528869398496465105820939239829488793320362509443\n",
    "117301238197068416140397019837679320683282376464804295311802\n",
    "328782509819455815301756717361332069811250996181881593041690\n",
    "351598888519345807273866738589422879228499892086805825749279\n",
    "610484198444363463244968487560233624827041978623209002160990\n",
    "235304369941849146314093431738143640546253152096183690888707\n",
    "016768396424378140592714563549061303107208510383750510115747\n",
    "704171898610687396965521267154688957035035402123407849819334\n",
    "321068170121005627880235193033224745015853904730419957777093\n",
    "503660416997329725088687696640355570716226844716256079882651\n",
    "787134195124665201030592123667719432527867539855894489697096\n",
    "409754591856956380236370162112047742722836489613422516445078\n",
    "182442352948636372141740238893441247963574370263755294448337\n",
    "998016125492278509257782562092622648326277933386566481627725\n",
    "164019105900491644998289315056604725802778631864155195653244\n",
    "258698294695930801915298721172556347546396447910145904090586\n",
    "298496791287406870504895858671747985466775757320568128845920\n",
    "541334053922000113786300945560688166740016984205580403363795\n",
    "376452030402432256613527836951177883863874439662532249850654\n",
    "995886234281899707733276171783928034946501434558897071942586\n",
    "398772754710962953741521115136835062752602326484728703920764\n",
    "310059584116612054529703023647254929666938115137322753645098\n",
    "'''\n",
    "euler_str = euler.replace('\\n', '').replace('.', '')\n",
    "euler = int(euler_str)"
   ]
  },
  {
   "cell_type": "code",
   "execution_count": null,
   "metadata": {},
   "outputs": [],
   "source": []
  }
 ],
 "metadata": {
  "kernelspec": {
   "display_name": "phemex-puzzle",
   "language": "python",
   "name": "phemex-puzzle"
  },
  "language_info": {
   "codemirror_mode": {
    "name": "ipython",
    "version": 3
   },
   "file_extension": ".py",
   "mimetype": "text/x-python",
   "name": "python",
   "nbconvert_exporter": "python",
   "pygments_lexer": "ipython3",
   "version": "3.7.0"
  }
 },
 "nbformat": 4,
 "nbformat_minor": 2
}
