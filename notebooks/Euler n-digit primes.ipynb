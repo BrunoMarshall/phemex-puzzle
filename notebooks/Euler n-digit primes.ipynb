{
 "cells": [
  {
   "cell_type": "code",
   "execution_count": 1,
   "metadata": {},
   "outputs": [],
   "source": [
    "from ipynb.fs.full.utils import euler, euler_str\n",
    "import subprocess"
   ]
  },
  {
   "cell_type": "code",
   "execution_count": 2,
   "metadata": {},
   "outputs": [],
   "source": [
    "def nums_with_n_digits(n = 21):\n",
    "    for idx in range(0, len(euler_str) + 1 - n):\n",
    "        start = idx\n",
    "        end = start + n\n",
    "        num = int(euler_str[start:end])\n",
    "        yield num"
   ]
  },
  {
   "cell_type": "code",
   "execution_count": 3,
   "metadata": {},
   "outputs": [
    {
     "data": {
      "text/plain": [
       "45098"
      ]
     },
     "execution_count": 3,
     "metadata": {},
     "output_type": "execute_result"
    }
   ],
   "source": [
    "list(nums_with_n_digits(5))[-1]"
   ]
  },
  {
   "cell_type": "code",
   "execution_count": 4,
   "metadata": {},
   "outputs": [
    {
     "name": "stdout",
     "output_type": "stream",
     "text": [
      "False\n",
      "True\n"
     ]
    }
   ],
   "source": [
    "def is_prime(num):\n",
    "    result = subprocess.run(['openssl', 'prime', str(num)], encoding='utf8', capture_output=True)\n",
    "    return result.stdout.find('is prime') >= 0\n",
    "print(is_prime(4))\n",
    "print(is_prime(7))"
   ]
  },
  {
   "cell_type": "code",
   "execution_count": 5,
   "metadata": {},
   "outputs": [
    {
     "data": {
      "text/plain": [
       "957496696762772407663"
      ]
     },
     "execution_count": 5,
     "metadata": {},
     "output_type": "execute_result"
    }
   ],
   "source": [
    "def first_prime_with_n_digits(n = 21):\n",
    "    for num in nums_with_n_digits(n):\n",
    "        if (is_prime(num)):\n",
    "            return num\n",
    "    return False\n",
    "first_prime_with_n_digits(21)"
   ]
  },
  {
   "cell_type": "code",
   "execution_count": 6,
   "metadata": {},
   "outputs": [
    {
     "name": "stdout",
     "output_type": "stream",
     "text": [
      "first prime with 1 digits: 2\n",
      "first prime with 2 digits: 71\n",
      "first prime with 3 digits: 271\n",
      "first prime with 4 digits: 4523\n",
      "first prime with 5 digits: 4523\n",
      "first prime with 6 digits: 904523\n",
      "first prime with 7 digits: 2718281\n",
      "first prime with 8 digits: 72407663\n",
      "first prime with 9 digits: 360287471\n",
      "first prime with 10 digits: 7427466391\n",
      "first prime with 11 digits: 75724709369\n",
      "first prime with 12 digits: 749669676277\n",
      "first prime with 13 digits: 8284590452353\n",
      "first prime with 14 digits: 99959574966967\n",
      "first prime with 15 digits: 724709369995957\n",
      "first prime with 16 digits: 2470936999595749\n",
      "first prime with 17 digits: 28459045235360287\n",
      "first prime with 18 digits: 571382178525166427\n",
      "first prime with 19 digits: 5956307381323286279\n",
      "first prime with 20 digits: 53602874713526624977\n",
      "first prime with 21 digits: 957496696762772407663\n",
      "first prime with 22 digits: 8182845904523536028747\n",
      "first prime with 23 digits: 52353602874713526624977\n",
      "first prime with 24 digits: 240766303535475945713821\n",
      "first prime with 25 digits: 8281828459045235360287471\n",
      "first prime with 26 digits: 82818284590452353602874713\n",
      "first prime with 27 digits: 766303535475945713821785251\n",
      "first prime with 28 digits: 7471352662497757247093699959\n",
      "first prime with 29 digits: 13526624977572470936999595749\n",
      "first prime with 30 digits: 182845904523536028747135266249\n",
      "first prime with 31 digits: 6427427466391932003059921817413\n",
      "first prime with 32 digits: 90763233829880753195251019011573\n",
      "first prime with 33 digits: 828182845904523536028747135266249\n",
      "first prime with 34 digits: 9995957496696762772407663035354759\n",
      "first prime with 35 digits: 35966290435729003342952605956307381\n",
      "first prime with 36 digits: 459045235360287471352662497757247093\n",
      "first prime with 37 digits: 7247093699959574966967627724076630353\n",
      "first prime with 38 digits: 69676277240766303535475945713821785251\n",
      "first prime with 39 digits: 999595749669676277240766303535475945713\n",
      "first prime with 40 digits: 7663035354759457138217852516642742746639\n",
      "first prime with 41 digits: 93699959574966967627724076630353547594571\n",
      "first prime with 42 digits: 724709369995957496696762772407663035354759\n",
      "first prime with 43 digits: 2497757247093699959574966967627724076630353\n",
      "first prime with 44 digits: 92181741359662904357290033429526059563073813\n",
      "first prime with 45 digits: 818284590452353602874713526624977572470936999\n",
      "first prime with 46 digits: 1828459045235360287471352662497757247093699959\n",
      "first prime with 47 digits: 52516642742746639193200305992181741359662904357\n",
      "first prime with 48 digits: 762772407663035354759457138217852516642742746639\n",
      "first prime with 49 digits: 7182818284590452353602874713526624977572470936999\n",
      "first prime with 50 digits: 72470936999595749669676277240766303535475945713821\n",
      "first prime with 51 digits: 729003342952605956307381323286279434907632338298807\n",
      "first prime with 52 digits: 6639193200305992181741359662904357290033429526059563\n",
      "first prime with 53 digits: 75204493382656029760673711320070932870912744374704723\n",
      "first prime with 54 digits: 135266249775724709369995957496696762772407663035354759\n",
      "first prime with 55 digits: 6630353547594571382178525166427427466391932003059921817\n",
      "first prime with 56 digits: 13845830007520449338265602976067371132007093287091274437\n",
      "first prime with 57 digits: 627724076630353547594571382178525166427427466391932003059\n",
      "first prime with 58 digits: 8416750924476146066808226480016847741185374234544243710753\n",
      "first prime with 59 digits: 47594571382178525166427427466391932003059921817413596629043\n",
      "first prime with 60 digits: 92447614606680822648001684774118537423454424371075390777449\n",
      "first prime with 61 digits: 4606680822648001684774118537423454424371075390777449920695517\n",
      "first prime with 62 digits: 24076630353547594571382178525166427427466391932003059921817413\n",
      "first prime with 63 digits: 995957496696762772407663035354759457138217852516642742746639193\n",
      "first prime with 64 digits: 4425056953696770785449969967946864454905987931636889230098793127\n",
      "first prime with 65 digits: 20695517027618386062613313845830007520449338265602976067371132007\n",
      "first prime with 66 digits: 251664274274663919320030599218174135966290435729003342952605956307\n",
      "first prime with 67 digits: 70932870912744374704723069697720931014169283681902551510865746377\n",
      "first prime with 68 digits: 24709369995957496696762772407663035354759457138217852516642742746639\n",
      "first prime with 69 digits: 702154089149934884167509244761460668082264800168477411853742345442437\n",
      "first prime with 70 digits: 2904357290033429526059563073813232862794349076323382988075319525101901\n",
      "first prime with 71 digits: 46377211125238978442505695369677078544996996794686445490598793163688923\n",
      "first prime with 72 digits: 493382656029760673711320070932870912744374704723069697720931014169283681\n",
      "first prime with 73 digits: 8458300075204493382656029760673711320070932870912744374704723069697720931\n",
      "first prime with 74 digits: 13821785251664274274663919320030599218174135966290435729003342952605956307\n",
      "first prime with 75 digits: 959574966967627724076630353547594571382178525166427427466391932003059921817\n",
      "first prime with 76 digits: 3602874713526624977572470936999595749669676277240766303535475945713821785251\n",
      "first prime with 77 digits: 90115738341879307021540891499348841675092447614606680822648001684774118537423\n",
      "first prime with 78 digits: 750924476146066808226480016847741185374234544243710753907774499206955170276183\n",
      "first prime with 79 digits: 9662904357290033429526059563073813232862794349076323382988075319525101901157383\n",
      "first prime with 80 digits: 66967627724076630353547594571382178525166427427466391932003059921817413596629043\n",
      "first prime with 81 digits: 836819025515108657463772111252389784425056953696770785449969967946864454905987931\n",
      "first prime with 82 digits: 8001684774118537423454424371075390777449920695517027618386062613313845830007520449\n",
      "first prime with 83 digits: 69995957496696762772407663035354759457138217852516642742746639193200305992181741359\n",
      "first prime with 84 digits: 307021540891499348841675092447614606680822648001684774118537423454424371075390777449\n",
      "first prime with 85 digits: 2718281828459045235360287471352662497757247093699959574966967627724076630353547594571\n",
      "first prime with 86 digits: 28182845904523536028747135266249775724709369995957496696762772407663035354759457138217\n",
      "first prime with 87 digits: 729003342952605956307381323286279434907632338298807531952510190115738341879307021540891\n",
      "first prime with 88 digits: 5374234544243710753907774499206955170276183860626133138458300075204493382656029760673711\n",
      "first prime with 89 digits: 25166427427466391932003059921817413596629043572900334295260595630738132328627943490763233\n",
      "first prime with 90 digits: 352662497757247093699959574966967627724076630353547594571382178525166427427466391932003059\n",
      "first prime with 91 digits: 2662497757247093699959574966967627724076630353547594571382178525166427427466391932003059921\n",
      "first prime with 92 digits: 99595749669676277240766303535475945713821785251664274274663919320030599218174135966290435729\n",
      "first prime with 93 digits: 957496696762772407663035354759457138217852516642742746639193200305992181741359662904357290033\n",
      "first prime with 94 digits: 1382178525166427427466391932003059921817413596629043572900334295260595630738132328627943490763\n",
      "first prime with 95 digits: 62772407663035354759457138217852516642742746639193200305992181741359662904357290033429526059563\n",
      "first prime with 96 digits: 260595630738132328627943490763233829880753195251019011573834187930702154089149934884167509244761\n",
      "first prime with 97 digits: 9127443747047230696977209310141692836819025515108657463772111252389784425056953696770785449969967\n",
      "first prime with 98 digits: 51664274274663919320030599218174135966290435729003342952605956307381323286279434907632338298807531\n",
      "first prime with 99 digits: 240766303535475945713821785251664274274663919320030599218174135966290435729003342952605956307381323\n"
     ]
    }
   ],
   "source": [
    "for i in range(1, 100):\n",
    "    print('first prime with {} digits: {}'.format(i, first_prime_with_n_digits(i)))"
   ]
  },
  {
   "cell_type": "code",
   "execution_count": null,
   "metadata": {},
   "outputs": [],
   "source": []
  }
 ],
 "metadata": {
  "kernelspec": {
   "display_name": "phemex-puzzle",
   "language": "python",
   "name": "phemex-puzzle"
  },
  "language_info": {
   "codemirror_mode": {
    "name": "ipython",
    "version": 3
   },
   "file_extension": ".py",
   "mimetype": "text/x-python",
   "name": "python",
   "nbconvert_exporter": "python",
   "pygments_lexer": "ipython3",
   "version": "3.7.0"
  }
 },
 "nbformat": 4,
 "nbformat_minor": 2
}
