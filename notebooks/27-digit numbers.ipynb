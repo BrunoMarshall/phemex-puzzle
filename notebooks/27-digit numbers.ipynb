{
 "cells": [
  {
   "cell_type": "code",
   "execution_count": 1,
   "metadata": {},
   "outputs": [],
   "source": [
    "from ipynb.fs.full.utils import char_encoding_alpha, test_num, to_hex\n",
    "from functools import reduce\n",
    "from bit.base58 import b58decode, b58encode_check, b58decode_check #, b58decode_check, b58encode, b58encode_check\n",
    "from itertools import permutations\n",
    "from ipynb.fs.full.hashes import sha256, double_sha256, ripemd, double_sha256_ripemd, sha256_ripemd, ripemd_sha256, ripemd_double_sha256"
   ]
  },
  {
   "cell_type": "code",
   "execution_count": 2,
   "metadata": {},
   "outputs": [
    {
     "data": {
      "text/plain": [
       "3"
      ]
     },
     "execution_count": 2,
     "metadata": {},
     "output_type": "execute_result"
    }
   ],
   "source": [
    "def count_digits(num):\n",
    "    return len(str(num).rstrip('L'))\n",
    "\n",
    "count_digits('100L')"
   ]
  },
  {
   "cell_type": "code",
   "execution_count": 3,
   "metadata": {
    "scrolled": true
   },
   "outputs": [
    {
     "data": {
      "text/plain": [
       "100000000000000000000000000"
      ]
     },
     "execution_count": 3,
     "metadata": {},
     "output_type": "execute_result"
    }
   ],
   "source": [
    "# how any 27-digit numbers?\n",
    "min = 10**26\n",
    "min"
   ]
  },
  {
   "cell_type": "code",
   "execution_count": 4,
   "metadata": {},
   "outputs": [
    {
     "data": {
      "text/plain": [
       "27"
      ]
     },
     "execution_count": 4,
     "metadata": {},
     "output_type": "execute_result"
    }
   ],
   "source": [
    "count_digits(min)"
   ]
  },
  {
   "cell_type": "code",
   "execution_count": 5,
   "metadata": {},
   "outputs": [
    {
     "data": {
      "text/plain": [
       "999999999999999999999999999"
      ]
     },
     "execution_count": 5,
     "metadata": {},
     "output_type": "execute_result"
    }
   ],
   "source": [
    "max = 10**27 - 1\n",
    "max"
   ]
  },
  {
   "cell_type": "code",
   "execution_count": 6,
   "metadata": {},
   "outputs": [
    {
     "data": {
      "text/plain": [
       "27"
      ]
     },
     "execution_count": 6,
     "metadata": {},
     "output_type": "execute_result"
    }
   ],
   "source": [
    "count_digits(max)"
   ]
  },
  {
   "cell_type": "code",
   "execution_count": 7,
   "metadata": {},
   "outputs": [
    {
     "data": {
      "text/plain": [
       "899999999999999999999999999"
      ]
     },
     "execution_count": 7,
     "metadata": {},
     "output_type": "execute_result"
    }
   ],
   "source": [
    "total = max - min\n",
    "total"
   ]
  },
  {
   "cell_type": "code",
   "execution_count": 8,
   "metadata": {},
   "outputs": [
    {
     "data": {
      "text/plain": [
       "24"
      ]
     },
     "execution_count": 8,
     "metadata": {},
     "output_type": "execute_result"
    }
   ],
   "source": [
    "len(hex(min))"
   ]
  },
  {
   "cell_type": "code",
   "execution_count": 9,
   "metadata": {},
   "outputs": [
    {
     "data": {
      "text/plain": [
       "25"
      ]
     },
     "execution_count": 9,
     "metadata": {},
     "output_type": "execute_result"
    }
   ],
   "source": [
    "len(hex(max))"
   ]
  },
  {
   "cell_type": "code",
   "execution_count": 10,
   "metadata": {},
   "outputs": [],
   "source": [
    "strings = ['XRP', 'ETH', 'BTC', 'Phemex']"
   ]
  },
  {
   "cell_type": "code",
   "execution_count": 11,
   "metadata": {},
   "outputs": [
    {
     "data": {
      "text/plain": [
       "123456789"
      ]
     },
     "execution_count": 11,
     "metadata": {},
     "output_type": "execute_result"
    }
   ],
   "source": [
    "def b58decode_to_num(s):\n",
    "    b = b58decode(s)\n",
    "    return int(b.hex(), 16)\n",
    "b58decode_to_num('BukQL')"
   ]
  },
  {
   "cell_type": "code",
   "execution_count": 12,
   "metadata": {},
   "outputs": [
    {
     "name": "stdout",
     "output_type": "stream",
     "text": [
      "XRP\n",
      "alpha: [24, 18, 16]\n",
      "ascii: [88, 82, 80]\n",
      "b58 decoded: 102334\n",
      "\n",
      "ETH\n",
      "alpha: [5, 20, 8]\n",
      "ascii: [69, 84, 72]\n",
      "b58 decoded: 45256\n",
      "\n",
      "BTC\n",
      "alpha: [2, 20, 3]\n",
      "ascii: [66, 84, 67]\n",
      "b58 decoded: 35159\n",
      "\n",
      "Phemex\n",
      "alpha: [16, 8, 5, 13, 5, 24]\n",
      "ascii: [80, 104, 101, 109, 101, 120]\n",
      "b58 decoded: 14899878097\n",
      "\n"
     ]
    }
   ],
   "source": [
    "for s in strings:\n",
    "    print(s)\n",
    "    alpha = [char_encoding_alpha(c) for c in s]\n",
    "    ascii = [ord(c) for c in s]\n",
    "    b58decoded = b58decode_to_num(s)\n",
    "    print('alpha: {}'.format(alpha))\n",
    "    print('ascii: {}'.format(ascii))\n",
    "    print('b58 decoded: {}'.format(b58decoded))\n",
    "    print('')"
   ]
  },
  {
   "cell_type": "code",
   "execution_count": 13,
   "metadata": {},
   "outputs": [
    {
     "name": "stdout",
     "output_type": "stream",
     "text": [
      "XRP\n",
      "alpha product: 6912\n",
      "\n",
      "ETH\n",
      "alpha product: 800\n",
      "\n",
      "BTC\n",
      "alpha product: 120\n",
      "\n",
      "Phemex\n",
      "alpha product: 998400\n",
      "\n"
     ]
    }
   ],
   "source": [
    "# 9 digit per ticker = 27 digits? (xrp, eth, btc)\n",
    "for s in strings:\n",
    "    print(s)\n",
    "    alpha_prod = reduce(lambda x, y: x*y, [char_encoding_alpha(c) for c in s])\n",
    "    print('alpha product: {}'.format(alpha_prod))\n",
    "    #print('ascii: {}'.format(ascii))\n",
    "    print('')"
   ]
  },
  {
   "cell_type": "code",
   "execution_count": 14,
   "metadata": {},
   "outputs": [
    {
     "data": {
      "text/plain": [
       "[102334, 45256, 35159, 14899878097]"
      ]
     },
     "execution_count": 14,
     "metadata": {},
     "output_type": "execute_result"
    }
   ],
   "source": [
    "nums = [b58decode_to_num(s) for s in strings]\n",
    "nums"
   ]
  },
  {
   "cell_type": "code",
   "execution_count": 15,
   "metadata": {},
   "outputs": [
    {
     "data": {
      "text/plain": [
       "27"
      ]
     },
     "execution_count": 15,
     "metadata": {},
     "output_type": "execute_result"
    }
   ],
   "source": [
    "len(''.join([str(n) for n in nums]))"
   ]
  },
  {
   "cell_type": "code",
   "execution_count": 16,
   "metadata": {},
   "outputs": [],
   "source": [
    "prime21 = 957496696762772407663"
   ]
  },
  {
   "cell_type": "code",
   "execution_count": 17,
   "metadata": {},
   "outputs": [
    {
     "data": {
      "text/plain": [
       "[102334452563515914899878097,\n",
       " 102334452561489987809735159,\n",
       " 102334351594525614899878097,\n",
       " 102334351591489987809745256,\n",
       " 102334148998780974525635159,\n",
       " 102334148998780973515945256,\n",
       " 452561023343515914899878097,\n",
       " 452561023341489987809735159,\n",
       " 452563515910233414899878097,\n",
       " 452563515914899878097102334,\n",
       " 452561489987809710233435159,\n",
       " 452561489987809735159102334,\n",
       " 351591023344525614899878097,\n",
       " 351591023341489987809745256,\n",
       " 351594525610233414899878097,\n",
       " 351594525614899878097102334,\n",
       " 351591489987809710233445256,\n",
       " 351591489987809745256102334,\n",
       " 148998780971023344525635159,\n",
       " 148998780971023343515945256,\n",
       " 148998780974525610233435159,\n",
       " 148998780974525635159102334,\n",
       " 148998780973515910233445256,\n",
       " 148998780973515945256102334]"
      ]
     },
     "execution_count": 17,
     "metadata": {},
     "output_type": "execute_result"
    }
   ],
   "source": [
    "perms = permutations([str(n) for n in nums])\n",
    "perms = [int(''.join(strs)) for strs in perms]\n",
    "list(perms)"
   ]
  },
  {
   "cell_type": "code",
   "execution_count": 18,
   "metadata": {},
   "outputs": [
    {
     "data": {
      "text/plain": [
       "27"
      ]
     },
     "execution_count": 18,
     "metadata": {},
     "output_type": "execute_result"
    }
   ],
   "source": [
    "len(str(102334452563515914899878097))"
   ]
  },
  {
   "cell_type": "code",
   "execution_count": 19,
   "metadata": {},
   "outputs": [],
   "source": [
    "hashfns = (sha256, double_sha256, ripemd, double_sha256_ripemd, sha256_ripemd, ripemd_sha256, ripemd_double_sha256)"
   ]
  },
  {
   "cell_type": "code",
   "execution_count": 20,
   "metadata": {},
   "outputs": [],
   "source": [
    "def test_n(n):\n",
    "    test_num(prime21 * n)\n",
    "    test_num(prime21, n)\n",
    "    test_num(n, prime21)\n",
    "    test_num(int(str(prime21) + str(n)))\n",
    "    test_num(int(str(n) + str(prime21)))\n",
    "    for hashfn in hashfns:\n",
    "        test_num(hashfn(str(n) + str(prime21)))\n",
    "        test_num(hashfn(str(prime21) + str(n)))"
   ]
  },
  {
   "cell_type": "code",
   "execution_count": 21,
   "metadata": {},
   "outputs": [],
   "source": [
    "for n in perms:\n",
    "    test_n(n)\n",
    "    "
   ]
  },
  {
   "cell_type": "code",
   "execution_count": 22,
   "metadata": {},
   "outputs": [
    {
     "data": {
      "text/plain": [
       "16"
      ]
     },
     "execution_count": 22,
     "metadata": {},
     "output_type": "execute_result"
    }
   ],
   "source": [
    "count_digits(b58decode_to_num('xrpethbtc'))"
   ]
  },
  {
   "cell_type": "code",
   "execution_count": 23,
   "metadata": {},
   "outputs": [
    {
     "data": {
      "text/plain": [
       "27"
      ]
     },
     "execution_count": 23,
     "metadata": {},
     "output_type": "execute_result"
    }
   ],
   "source": [
    "count_digits(b58decode_to_num('xrpethbtcphemex'))"
   ]
  },
  {
   "cell_type": "code",
   "execution_count": 24,
   "metadata": {},
   "outputs": [
    {
     "data": {
      "text/plain": [
       "[148305363320012921807472785,\n",
       " 148305363321581594761737215,\n",
       " 148305288323327007201251537,\n",
       " 148305288324511300566909296,\n",
       " 148305594391428754978411223,\n",
       " 148305594391428753008375456,\n",
       " 65586902633914446427350161,\n",
       " 65586902635483119381614591,\n",
       " 65586403683495875200954961,\n",
       " 65586403682507283733643366,\n",
       " 65586709749424749281690951,\n",
       " 65586709749424736175109526,\n",
       " 50954074255057882780989137,\n",
       " 50954074256242176146646896,\n",
       " 50953650301325226160815185,\n",
       " 50953650300336634693503590,\n",
       " 50953881370183806046723256,\n",
       " 50953881370183794910177598,\n",
       " 110671209770721818677163543,\n",
       " 110671209770721816707127776,\n",
       " 110671209768548944980739847,\n",
       " 110671209768548931874158422,\n",
       " 110671209768164565392133176,\n",
       " 110671209768164554255587518]"
      ]
     },
     "execution_count": 24,
     "metadata": {},
     "output_type": "execute_result"
    }
   ],
   "source": [
    "nums = [b58decode_to_num(''.join(s)) for s in permutations(strings)]\n",
    "nums"
   ]
  },
  {
   "cell_type": "code",
   "execution_count": 25,
   "metadata": {},
   "outputs": [],
   "source": [
    "for n in nums:\n",
    "    test_n(n)"
   ]
  },
  {
   "cell_type": "code",
   "execution_count": 26,
   "metadata": {},
   "outputs": [],
   "source": [
    "prime27 = 766303535475945713821785251"
   ]
  },
  {
   "cell_type": "code",
   "execution_count": 27,
   "metadata": {},
   "outputs": [
    {
     "data": {
      "text/plain": [
       "False"
      ]
     },
     "execution_count": 27,
     "metadata": {},
     "output_type": "execute_result"
    }
   ],
   "source": [
    "test_num(prime21 * prime27)"
   ]
  },
  {
   "cell_type": "code",
   "execution_count": 28,
   "metadata": {},
   "outputs": [],
   "source": [
    "# other approach (decode as base58 , multiply, re-encode in base58 check)\n",
    "xs = [b58decode_to_num(s) for s in strings]"
   ]
  },
  {
   "cell_type": "code",
   "execution_count": 29,
   "metadata": {},
   "outputs": [
    {
     "data": {
      "text/plain": [
       "2426137135032177995282192"
      ]
     },
     "execution_count": 29,
     "metadata": {},
     "output_type": "execute_result"
    }
   ],
   "source": [
    "y = reduce(lambda acc, x: acc * x, xs)\n",
    "y"
   ]
  },
  {
   "cell_type": "code",
   "execution_count": 30,
   "metadata": {},
   "outputs": [
    {
     "data": {
      "text/plain": [
       "25"
      ]
     },
     "execution_count": 30,
     "metadata": {},
     "output_type": "execute_result"
    }
   ],
   "source": [
    "count_digits(y)"
   ]
  },
  {
   "cell_type": "code",
   "execution_count": 31,
   "metadata": {},
   "outputs": [],
   "source": [
    "# damn ittt"
   ]
  },
  {
   "cell_type": "code",
   "execution_count": 32,
   "metadata": {},
   "outputs": [
    {
     "data": {
      "text/plain": [
       "'4FsftHsQ8qmWFqz8wRH1'"
      ]
     },
     "execution_count": 32,
     "metadata": {},
     "output_type": "execute_result"
    }
   ],
   "source": [
    "x = b58encode_check(bytes.fromhex(to_hex(y)))\n",
    "x"
   ]
  },
  {
   "cell_type": "code",
   "execution_count": 33,
   "metadata": {},
   "outputs": [
    {
     "data": {
      "text/plain": [
       "2426137135032177995282192"
      ]
     },
     "execution_count": 33,
     "metadata": {},
     "output_type": "execute_result"
    }
   ],
   "source": [
    "int(b58decode_check(x).hex(), 16)"
   ]
  },
  {
   "cell_type": "code",
   "execution_count": 34,
   "metadata": {},
   "outputs": [
    {
     "data": {
      "text/plain": [
       "10420179650574340397387858816625536"
      ]
     },
     "execution_count": 34,
     "metadata": {},
     "output_type": "execute_result"
    }
   ],
   "source": [
    "x2 = int(b58decode(x).hex(), 16)\n",
    "x2"
   ]
  },
  {
   "cell_type": "code",
   "execution_count": 35,
   "metadata": {},
   "outputs": [
    {
     "data": {
      "text/plain": [
       "35"
      ]
     },
     "execution_count": 35,
     "metadata": {},
     "output_type": "execute_result"
    }
   ],
   "source": [
    "count_digits(x2)"
   ]
  },
  {
   "cell_type": "code",
   "execution_count": 36,
   "metadata": {},
   "outputs": [],
   "source": [
    "# nope"
   ]
  },
  {
   "cell_type": "code",
   "execution_count": 37,
   "metadata": {},
   "outputs": [
    {
     "data": {
      "text/plain": [
       "[102334, 45256, 35159, 14899878097]"
      ]
     },
     "execution_count": 37,
     "metadata": {},
     "output_type": "execute_result"
    }
   ],
   "source": [
    "xs"
   ]
  },
  {
   "cell_type": "code",
   "execution_count": 38,
   "metadata": {},
   "outputs": [
    {
     "data": {
      "text/plain": [
       "77129"
      ]
     },
     "execution_count": 38,
     "metadata": {},
     "output_type": "execute_result"
    }
   ],
   "source": [
    "prime21 % xs[0]"
   ]
  },
  {
   "cell_type": "code",
   "execution_count": 39,
   "metadata": {},
   "outputs": [
    {
     "data": {
      "text/plain": [
       "5047"
      ]
     },
     "execution_count": 39,
     "metadata": {},
     "output_type": "execute_result"
    }
   ],
   "source": [
    "prime21 % xs[1]"
   ]
  },
  {
   "cell_type": "code",
   "execution_count": 40,
   "metadata": {},
   "outputs": [
    {
     "data": {
      "text/plain": [
       "27042"
      ]
     },
     "execution_count": 40,
     "metadata": {},
     "output_type": "execute_result"
    }
   ],
   "source": [
    "prime21 % xs[2]"
   ]
  },
  {
   "cell_type": "code",
   "execution_count": 41,
   "metadata": {},
   "outputs": [
    {
     "data": {
      "text/plain": [
       "11934824141"
      ]
     },
     "execution_count": 41,
     "metadata": {},
     "output_type": "execute_result"
    }
   ],
   "source": [
    "prime21 % xs[3]"
   ]
  },
  {
   "cell_type": "code",
   "execution_count": 42,
   "metadata": {},
   "outputs": [
    {
     "data": {
      "text/plain": [
       "25"
      ]
     },
     "execution_count": 42,
     "metadata": {},
     "output_type": "execute_result"
    }
   ],
   "source": [
    "count_digits(77129) + count_digits(5047) + count_digits(27042) + count_digits(11934824141)"
   ]
  },
  {
   "cell_type": "code",
   "execution_count": 43,
   "metadata": {},
   "outputs": [],
   "source": [
    "# damn itttt"
   ]
  },
  {
   "cell_type": "code",
   "execution_count": 44,
   "metadata": {},
   "outputs": [
    {
     "data": {
      "text/plain": [
       "24"
      ]
     },
     "execution_count": 44,
     "metadata": {},
     "output_type": "execute_result"
    }
   ],
   "source": [
    "count_digits(77129 * 5047 * 27042 * 11934824141)"
   ]
  },
  {
   "cell_type": "code",
   "execution_count": 45,
   "metadata": {},
   "outputs": [],
   "source": [
    "# damn ittt"
   ]
  },
  {
   "cell_type": "code",
   "execution_count": 46,
   "metadata": {},
   "outputs": [
    {
     "data": {
      "text/plain": [
       "102334"
      ]
     },
     "execution_count": 46,
     "metadata": {},
     "output_type": "execute_result"
    }
   ],
   "source": [
    "xs[0] % prime21"
   ]
  },
  {
   "cell_type": "code",
   "execution_count": 47,
   "metadata": {},
   "outputs": [
    {
     "data": {
      "text/plain": [
       "45256"
      ]
     },
     "execution_count": 47,
     "metadata": {},
     "output_type": "execute_result"
    }
   ],
   "source": [
    "xs[1] % prime21"
   ]
  },
  {
   "cell_type": "code",
   "execution_count": 48,
   "metadata": {},
   "outputs": [
    {
     "data": {
      "text/plain": [
       "35159"
      ]
     },
     "execution_count": 48,
     "metadata": {},
     "output_type": "execute_result"
    }
   ],
   "source": [
    "xs[2] % prime21"
   ]
  },
  {
   "cell_type": "code",
   "execution_count": 49,
   "metadata": {},
   "outputs": [
    {
     "data": {
      "text/plain": [
       "14899878097"
      ]
     },
     "execution_count": 49,
     "metadata": {},
     "output_type": "execute_result"
    }
   ],
   "source": [
    "xs[3] % prime21"
   ]
  },
  {
   "cell_type": "code",
   "execution_count": 50,
   "metadata": {},
   "outputs": [
    {
     "data": {
      "text/plain": [
       "27"
      ]
     },
     "execution_count": 50,
     "metadata": {},
     "output_type": "execute_result"
    }
   ],
   "source": [
    "count_digits(102334) + count_digits(45256) + count_digits(35159) + count_digits(14899878097)"
   ]
  },
  {
   "cell_type": "code",
   "execution_count": 51,
   "metadata": {},
   "outputs": [],
   "source": [
    "# interesting"
   ]
  },
  {
   "cell_type": "code",
   "execution_count": 52,
   "metadata": {},
   "outputs": [
    {
     "data": {
      "text/plain": [
       "25"
      ]
     },
     "execution_count": 52,
     "metadata": {},
     "output_type": "execute_result"
    }
   ],
   "source": [
    "count_digits(102334 * 45256 * 35159 * 14899878097)"
   ]
  },
  {
   "cell_type": "code",
   "execution_count": 53,
   "metadata": {},
   "outputs": [
    {
     "name": "stdout",
     "output_type": "stream",
     "text": [
      "102334452563515914899878097\n",
      "102334452561489987809735159\n",
      "102334351594525614899878097\n",
      "102334351591489987809745256\n",
      "102334148998780974525635159\n",
      "102334148998780973515945256\n",
      "452561023343515914899878097\n",
      "452561023341489987809735159\n",
      "452563515910233414899878097\n",
      "452563515914899878097102334\n",
      "452561489987809710233435159\n",
      "452561489987809735159102334\n",
      "351591023344525614899878097\n",
      "351591023341489987809745256\n",
      "351594525610233414899878097\n",
      "351594525614899878097102334\n",
      "351591489987809710233445256\n",
      "351591489987809745256102334\n",
      "148998780971023344525635159\n",
      "148998780971023343515945256\n",
      "148998780974525610233435159\n",
      "148998780974525635159102334\n",
      "148998780973515910233445256\n",
      "148998780973515945256102334\n"
     ]
    }
   ],
   "source": [
    "for xs in permutations(xs):\n",
    "    n = int(''.join([str(x % prime21) for x in xs]))\n",
    "    print(n)\n",
    "    test_n(n)"
   ]
  },
  {
   "cell_type": "code",
   "execution_count": 54,
   "metadata": {},
   "outputs": [
    {
     "data": {
      "text/plain": [
       "25"
      ]
     },
     "execution_count": 54,
     "metadata": {},
     "output_type": "execute_result"
    }
   ],
   "source": [
    "count_digits(102334 * 45256 * 35159 * 14899878097)"
   ]
  },
  {
   "cell_type": "code",
   "execution_count": 55,
   "metadata": {},
   "outputs": [],
   "source": [
    "def prod(xs):\n",
    "    return reduce(lambda acc, x: acc * x, xs)"
   ]
  },
  {
   "cell_type": "code",
   "execution_count": 56,
   "metadata": {},
   "outputs": [
    {
     "name": "stdout",
     "output_type": "stream",
     "text": [
      "[30, 24, 22, 13, 26, 16, 10, 26, 11, 22, 40, 37, 44, 37, 55]\n",
      "[76, 55, 47, 235]\n",
      "[15840, 5408, 2860, 2915422400]\n"
     ]
    }
   ],
   "source": [
    "nums = []\n",
    "nums2 = []\n",
    "nums3 = []\n",
    "for s in strings:\n",
    "    # decode letter by letter\n",
    "    ns = [int(b58decode(c).hex(), 16) for c in s]\n",
    "    nums = nums + ns\n",
    "    nums2 += [sum(ns)]\n",
    "    nums3 += [prod(ns)]\n",
    "print(nums)\n",
    "print(nums2)\n",
    "print(nums3)"
   ]
  },
  {
   "cell_type": "code",
   "execution_count": 57,
   "metadata": {},
   "outputs": [
    {
     "data": {
      "text/plain": [
       "30"
      ]
     },
     "execution_count": 57,
     "metadata": {},
     "output_type": "execute_result"
    }
   ],
   "source": [
    "len(nums) * 2"
   ]
  },
  {
   "cell_type": "code",
   "execution_count": 58,
   "metadata": {},
   "outputs": [
    {
     "data": {
      "text/plain": [
       "714265016416174080000"
      ]
     },
     "execution_count": 58,
     "metadata": {},
     "output_type": "execute_result"
    }
   ],
   "source": [
    "prod(nums)"
   ]
  },
  {
   "cell_type": "code",
   "execution_count": 59,
   "metadata": {},
   "outputs": [
    {
     "data": {
      "text/plain": [
       "21"
      ]
     },
     "execution_count": 59,
     "metadata": {},
     "output_type": "execute_result"
    }
   ],
   "source": [
    "count_digits(714265016416174080000)"
   ]
  },
  {
   "cell_type": "code",
   "execution_count": 60,
   "metadata": {},
   "outputs": [
    {
     "data": {
      "text/plain": [
       "46168100"
      ]
     },
     "execution_count": 60,
     "metadata": {},
     "output_type": "execute_result"
    }
   ],
   "source": [
    "prod(nums2)"
   ]
  },
  {
   "cell_type": "code",
   "execution_count": 61,
   "metadata": {},
   "outputs": [
    {
     "data": {
      "text/plain": [
       "413"
      ]
     },
     "execution_count": 61,
     "metadata": {},
     "output_type": "execute_result"
    }
   ],
   "source": [
    "sum(nums2)"
   ]
  },
  {
   "cell_type": "code",
   "execution_count": 62,
   "metadata": {},
   "outputs": [
    {
     "data": {
      "text/plain": [
       "21"
      ]
     },
     "execution_count": 62,
     "metadata": {},
     "output_type": "execute_result"
    }
   ],
   "source": [
    "count_digits(prod(nums3))"
   ]
  },
  {
   "cell_type": "code",
   "execution_count": 63,
   "metadata": {},
   "outputs": [],
   "source": [
    "for nums in permutations([14899878097, 35159, 102334, 45256]):\n",
    "    rest = ''.join([str(n) for n in nums])\n",
    "    num = int('{}{}'.format(prime21, rest), 10)\n",
    "    test_num(num)"
   ]
  },
  {
   "cell_type": "code",
   "execution_count": null,
   "metadata": {},
   "outputs": [],
   "source": []
  }
 ],
 "metadata": {
  "kernelspec": {
   "display_name": "phemex-puzzle",
   "language": "python",
   "name": "phemex-puzzle"
  },
  "language_info": {
   "codemirror_mode": {
    "name": "ipython",
    "version": 3
   },
   "file_extension": ".py",
   "mimetype": "text/x-python",
   "name": "python",
   "nbconvert_exporter": "python",
   "pygments_lexer": "ipython3",
   "version": "3.7.0"
  }
 },
 "nbformat": 4,
 "nbformat_minor": 2
}
