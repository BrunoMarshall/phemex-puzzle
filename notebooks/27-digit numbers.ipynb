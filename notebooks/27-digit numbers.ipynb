{
 "cells": [
  {
   "cell_type": "code",
   "execution_count": 1,
   "metadata": {},
   "outputs": [],
   "source": [
    "from ipynb.fs.full.utils import char_encoding_alpha, test_num\n",
    "from functools import reduce\n",
    "from bit.base58 import b58decode #, b58decode_check, b58encode, b58encode_check\n",
    "from itertools import permutations"
   ]
  },
  {
   "cell_type": "code",
   "execution_count": 2,
   "metadata": {},
   "outputs": [
    {
     "data": {
      "text/plain": [
       "3"
      ]
     },
     "execution_count": 2,
     "metadata": {},
     "output_type": "execute_result"
    }
   ],
   "source": [
    "def count_digits(num):\n",
    "    return len(str(num).rstrip('L'))\n",
    "\n",
    "count_digits('100L')"
   ]
  },
  {
   "cell_type": "code",
   "execution_count": 3,
   "metadata": {
    "scrolled": true
   },
   "outputs": [
    {
     "data": {
      "text/plain": [
       "100000000000000000000000000"
      ]
     },
     "execution_count": 3,
     "metadata": {},
     "output_type": "execute_result"
    }
   ],
   "source": [
    "# how any 27-digit numbers?\n",
    "min = 10**26\n",
    "min"
   ]
  },
  {
   "cell_type": "code",
   "execution_count": 4,
   "metadata": {},
   "outputs": [
    {
     "data": {
      "text/plain": [
       "27"
      ]
     },
     "execution_count": 4,
     "metadata": {},
     "output_type": "execute_result"
    }
   ],
   "source": [
    "count_digits(min)"
   ]
  },
  {
   "cell_type": "code",
   "execution_count": 5,
   "metadata": {},
   "outputs": [
    {
     "data": {
      "text/plain": [
       "999999999999999999999999999"
      ]
     },
     "execution_count": 5,
     "metadata": {},
     "output_type": "execute_result"
    }
   ],
   "source": [
    "max = 10**27 - 1\n",
    "max"
   ]
  },
  {
   "cell_type": "code",
   "execution_count": 6,
   "metadata": {},
   "outputs": [
    {
     "data": {
      "text/plain": [
       "27"
      ]
     },
     "execution_count": 6,
     "metadata": {},
     "output_type": "execute_result"
    }
   ],
   "source": [
    "count_digits(max)"
   ]
  },
  {
   "cell_type": "code",
   "execution_count": 7,
   "metadata": {},
   "outputs": [
    {
     "data": {
      "text/plain": [
       "899999999999999999999999999"
      ]
     },
     "execution_count": 7,
     "metadata": {},
     "output_type": "execute_result"
    }
   ],
   "source": [
    "total = max - min\n",
    "total"
   ]
  },
  {
   "cell_type": "code",
   "execution_count": 8,
   "metadata": {},
   "outputs": [
    {
     "data": {
      "text/plain": [
       "24"
      ]
     },
     "execution_count": 8,
     "metadata": {},
     "output_type": "execute_result"
    }
   ],
   "source": [
    "len(hex(min))"
   ]
  },
  {
   "cell_type": "code",
   "execution_count": 9,
   "metadata": {},
   "outputs": [
    {
     "data": {
      "text/plain": [
       "25"
      ]
     },
     "execution_count": 9,
     "metadata": {},
     "output_type": "execute_result"
    }
   ],
   "source": [
    "len(hex(max))"
   ]
  },
  {
   "cell_type": "code",
   "execution_count": 10,
   "metadata": {},
   "outputs": [],
   "source": [
    "strings = ['XRP', 'ETH', 'BTC', 'Phemex']"
   ]
  },
  {
   "cell_type": "code",
   "execution_count": 11,
   "metadata": {},
   "outputs": [
    {
     "data": {
      "text/plain": [
       "123456789"
      ]
     },
     "execution_count": 11,
     "metadata": {},
     "output_type": "execute_result"
    }
   ],
   "source": [
    "def b58decode_to_num(s):\n",
    "    b = b58decode(s)\n",
    "    return int(b.hex(), 16)\n",
    "b58decode_to_num('BukQL')"
   ]
  },
  {
   "cell_type": "code",
   "execution_count": 12,
   "metadata": {},
   "outputs": [
    {
     "name": "stdout",
     "output_type": "stream",
     "text": [
      "XRP\n",
      "alpha: [24, 18, 16]\n",
      "ascii: [88, 82, 80]\n",
      "b58 decoded: 102334\n",
      "\n",
      "ETH\n",
      "alpha: [5, 20, 8]\n",
      "ascii: [69, 84, 72]\n",
      "b58 decoded: 45256\n",
      "\n",
      "BTC\n",
      "alpha: [2, 20, 3]\n",
      "ascii: [66, 84, 67]\n",
      "b58 decoded: 35159\n",
      "\n",
      "Phemex\n",
      "alpha: [16, 8, 5, 13, 5, 24]\n",
      "ascii: [80, 104, 101, 109, 101, 120]\n",
      "b58 decoded: 14899878097\n",
      "\n"
     ]
    }
   ],
   "source": [
    "for s in strings:\n",
    "    print(s)\n",
    "    alpha = [char_encoding_alpha(c) for c in s]\n",
    "    ascii = [ord(c) for c in s]\n",
    "    b58decoded = b58decode_to_num(s)\n",
    "    print('alpha: {}'.format(alpha))\n",
    "    print('ascii: {}'.format(ascii))\n",
    "    print('b58 decoded: {}'.format(b58decoded))\n",
    "    print('')"
   ]
  },
  {
   "cell_type": "code",
   "execution_count": 13,
   "metadata": {},
   "outputs": [
    {
     "name": "stdout",
     "output_type": "stream",
     "text": [
      "XRP\n",
      "alpha product: 6912\n",
      "\n",
      "ETH\n",
      "alpha product: 800\n",
      "\n",
      "BTC\n",
      "alpha product: 120\n",
      "\n",
      "Phemex\n",
      "alpha product: 998400\n",
      "\n"
     ]
    }
   ],
   "source": [
    "# 9 digit per ticker = 27 digits? (xrp, eth, btc)\n",
    "for s in strings:\n",
    "    print(s)\n",
    "    alpha_prod = reduce(lambda x, y: x*y, [char_encoding_alpha(c) for c in s])\n",
    "    print('alpha product: {}'.format(alpha_prod))\n",
    "    #print('ascii: {}'.format(ascii))\n",
    "    print('')"
   ]
  },
  {
   "cell_type": "code",
   "execution_count": 14,
   "metadata": {},
   "outputs": [
    {
     "data": {
      "text/plain": [
       "[102334, 45256, 35159, 14899878097]"
      ]
     },
     "execution_count": 14,
     "metadata": {},
     "output_type": "execute_result"
    }
   ],
   "source": [
    "nums = [b58decode_to_num(s) for s in strings]\n",
    "nums"
   ]
  },
  {
   "cell_type": "code",
   "execution_count": 15,
   "metadata": {},
   "outputs": [
    {
     "data": {
      "text/plain": [
       "27"
      ]
     },
     "execution_count": 15,
     "metadata": {},
     "output_type": "execute_result"
    }
   ],
   "source": [
    "len(''.join([str(n) for n in nums]))"
   ]
  },
  {
   "cell_type": "code",
   "execution_count": 16,
   "metadata": {},
   "outputs": [],
   "source": [
    "prime21 = 957496696762772407663"
   ]
  },
  {
   "cell_type": "code",
   "execution_count": 17,
   "metadata": {},
   "outputs": [
    {
     "data": {
      "text/plain": [
       "[102334452563515914899878097,\n",
       " 102334452561489987809735159,\n",
       " 102334351594525614899878097,\n",
       " 102334351591489987809745256,\n",
       " 102334148998780974525635159,\n",
       " 102334148998780973515945256,\n",
       " 452561023343515914899878097,\n",
       " 452561023341489987809735159,\n",
       " 452563515910233414899878097,\n",
       " 452563515914899878097102334,\n",
       " 452561489987809710233435159,\n",
       " 452561489987809735159102334,\n",
       " 351591023344525614899878097,\n",
       " 351591023341489987809745256,\n",
       " 351594525610233414899878097,\n",
       " 351594525614899878097102334,\n",
       " 351591489987809710233445256,\n",
       " 351591489987809745256102334,\n",
       " 148998780971023344525635159,\n",
       " 148998780971023343515945256,\n",
       " 148998780974525610233435159,\n",
       " 148998780974525635159102334,\n",
       " 148998780973515910233445256,\n",
       " 148998780973515945256102334]"
      ]
     },
     "execution_count": 17,
     "metadata": {},
     "output_type": "execute_result"
    }
   ],
   "source": [
    "perms = permutations([str(n) for n in nums])\n",
    "perms = [int(''.join(strs)) for strs in perms]\n",
    "list(perms)"
   ]
  },
  {
   "cell_type": "code",
   "execution_count": 18,
   "metadata": {},
   "outputs": [
    {
     "data": {
      "text/plain": [
       "27"
      ]
     },
     "execution_count": 18,
     "metadata": {},
     "output_type": "execute_result"
    }
   ],
   "source": [
    "len(str(102334452563515914899878097))"
   ]
  },
  {
   "cell_type": "code",
   "execution_count": 19,
   "metadata": {},
   "outputs": [],
   "source": [
    "for n in perms:\n",
    "    test_num(prime21 * n)\n",
    "    test_num(int(str(prime21) + str(n)))\n",
    "    test_num(int(str(n) + str(prime21)))"
   ]
  },
  {
   "cell_type": "code",
   "execution_count": null,
   "metadata": {},
   "outputs": [],
   "source": []
  },
  {
   "cell_type": "code",
   "execution_count": null,
   "metadata": {},
   "outputs": [],
   "source": []
  }
 ],
 "metadata": {
  "kernelspec": {
   "display_name": "phemex-puzzle",
   "language": "python",
   "name": "phemex-puzzle"
  },
  "language_info": {
   "codemirror_mode": {
    "name": "ipython",
    "version": 3
   },
   "file_extension": ".py",
   "mimetype": "text/x-python",
   "name": "python",
   "nbconvert_exporter": "python",
   "pygments_lexer": "ipython3",
   "version": "3.7.0"
  }
 },
 "nbformat": 4,
 "nbformat_minor": 2
}
